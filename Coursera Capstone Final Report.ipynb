{
    "cells": [
        {
            "cell_type": "markdown",
            "metadata": {},
            "source": "<h1>Data Science Capstone Final Report</h1>\n<h2>Introduction</h2>\n<h3>Business Problem</h3>\nIs FourSquare an effective source of reliable data for finding eating venues in \u201cbedroom communities\u201d of large cities in the growing Southeast? We have established that FourSquare is very effective for locating venues in large Northeastern cities that have robust public transportation systems and much pedestrian and bicycle traffic. But is it just as good in suburban areas where automobiles are the primary mode of transportation? This project will attempt to locate usable (including rating and tip) data to locate seafood restaurants in Cobb County, Georgia within 5 miles (7500 +/- meters) of a known centrally located residential address.\n\nI was fascinated with FourSquare because of the demonstration of it during coursework, and began to wonder how widely applicable it was because, until it was used in the course lab, I had never heard of it. My curiosity grew after I contacted two recent college graduates from the metro Atlanta area and neither of them had ever heard of Foursquare.\n\n* This \u201cpenetration\u201d study will be of interest to several groups:\n* Those anticipating the opening of restaurants in Cobb County and plan to rely on FourSqure to attract traffic to their location\n* Those familiar with FourSquare who have relocated to suburban Atlanta from the large cities whose transportation options are as described above information and plan to rely on FourSquare in their new homes\n* FourSquare itself, who might be who might wish to design marketing campaigns to extend the reach of Foursquare into unserved or underserved areas.\n\n<h2>Data</h2>\nWe will leverage FourSquare data to search for highly rated seafood restaurants in Cobb County, Georgia within 5 miles (7500 +/- meters) of a known centrally located residential address.\n\n<h2>Methodology</h2>\nThe lab established a robost, reusable and widely applicable process for leveraging FourSquare for just about any type of exploration imaginable. That methodology was applied here. All that was required was a change in the starting location (which geocode could not locate, so latitude and longitude coordinates were input directly), the search radius and the search argument. Following the approach also insured that the analysis stayed completely parallel, with no bias introduced by deviation in the methodology. \n\n\n<h3>Exploratory Data Analysis</h3>\n\nExploratory data analysis was simplified by the fact that FourSquare returned only 9 seafood venues, one of them being \u201cfast food\u201d. A scan of the data was revealing:\n* In addition to the few venues returned, many of the features were absent. This was unexpected, and in stark contrast to the comprehensive data returned by FourSquare in searching for venues in the heart of Manhattan.\n* None of the venues contained ratings or tips\n* 6 of the 9 venues had data returned by GrubHub\n* None of the venues were in Cobb County. They were located in adjacent Fulton County, but within the 5 mile search radius. This was unexpected because several large shopping/restaurant concentrations ARE within the 5 mile radius AND within Cobb County.\n\n<h3>Inferential Statistical Testing</h3>\nThe nature of the study, combined with an insufficient volume of data, did not lend itself to inferential statistical testing beyond the observations noted above.\n\n<h3>Machine Learnings Employed</h3>\nThe nature of the study did not lend itself to any of the ML algorithms introduced in the program.\n\n<h2>Results</h2>\nFoursquare does not appear to be nearly as effective in locating or providing detailed data about venues in a Southeastern suburban commuter area as it is in urban areas with a great deal of pedestrian and public transportation consumer traffic.\n\n<h2>Discussion</h2>\n<h3>Observation</h3>\nIn its current form, FourSquare is clearly a valuable tool and data source in established Northern urban areas, but does seem to have penetrated nearly as deeply or as comprehensively in areas where residences are purposefully clustered away from service, entertainment and restaurant venues and public transportation is almost non-existent.\n\n<h3>Recommendations</h3>\nWe recommend that FourSquare determine exactly why the disparity exists with its use across different location types, and expend efforts to fill in those gaps. FourSquare\u2019s value would seem to be tied to the number and variety of areas it completely covers.\n\n\n\n<h2>Conclusion</h2>\nThe data indicates that FourSquare has become viral in some areas and very sparse in others. FourSquare depends on people to both populate its database and to consume that data. FourSquare may wish to pursue a marketing strategy targeted at younger audiences who have a presence in both an urban area and in the suburban areas around that urban area. A prime example here would be students at a centrally-located urban university where a significant proportion of the student body is comprised of commuters from the surrounding suburbs. The service, entertainment, restaurant venues that surround such campuses may provide the fuse that ignites enthusiastic contribution and participation by the younger, more tech-savvy population. That population, in turn, may carry that enthusiasm out to the surrounding suburbs where they actually reside.\n\n\n\n\n\n\n\n\n\n\n\n\n\n\n"
        },
        {
            "cell_type": "markdown",
            "metadata": {},
            "source": ""
        }
    ],
    "metadata": {
        "kernelspec": {
            "display_name": "Python 3.6",
            "language": "python",
            "name": "python3"
        },
        "language_info": {
            "codemirror_mode": {
                "name": "ipython",
                "version": 3
            },
            "file_extension": ".py",
            "mimetype": "text/x-python",
            "name": "python",
            "nbconvert_exporter": "python",
            "pygments_lexer": "ipython3",
            "version": "3.6.9"
        }
    },
    "nbformat": 4,
    "nbformat_minor": 1
}