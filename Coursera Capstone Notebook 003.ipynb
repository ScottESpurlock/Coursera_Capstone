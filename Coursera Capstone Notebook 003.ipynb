{
    "cells": [
        {
            "cell_type": "markdown",
            "metadata": {},
            "source": "<h2>East Cobb County Georgia Needs a Decent Seafood Resturaunt</h2>"
        },
        {
            "cell_type": "markdown",
            "metadata": {
                "collapsed": true
            },
            "source": "This project will leverage FourSquare data to determina an advantageous place to open a GOOD seafood resturaunt in my hometown of Marietta, Georgia.\n\nMarietta is a middle to upper-middle class suburburb located about 15 miles northwest of the city of Atlanta in the middle of one of the most popululous and spread out MSAs (US Census Metropolitan Statistical Area) in the country.\n\nMarietta's demographics range from impoverished within its city limits proper to upper middle class to the east - a part of Atlanta's \"Platinum Crescent\". Growth in this wealthier area began its explosion, after over a hundred years of rural obscurity, in the mid 1970s, and it continues.\n\nIt is a sought-after bedroom community for professionals who work in downtown Atlanta, as it is located just outside Atlanta's perimeter highway.\n\nThe more affluent area is also referred to as \"East Cobb\" - a reference to the county that surrounds it.\n\nEast Cobb contains everything in the way of amenities from shopping, entertainment and food that a similarly-situated suburban community of an essentially white-collar city would have.\n\nThe resturaunts, however, tend to be franchises, trendy though they may be. In terms of authentic ethnic fare, this shortage may well be due to the lack of an ethnically-diverse history of famililies from varied locations around the world having set down roots generations ago. The area is, in demographic terms, very new. More families from Asia (particularly India and Pakistan) are settling in the area, seeking the lifestyle and educational opportunities for their children from a nationally-ranked public school system.\n\nHowever, the roots of this community are homogeneous - southern American rural farming and immigrants from the northern part of the country who began settling there less than a half century ago.\n\nEast Cobb is in dire need of a good seafood resturaunt. The lack of one is due at least in part to the area's distance from the ocean. Taking the shortest routes, Atlanta is about equally distant from the Atlantic Ocean and the Gulf of Mexico. So locally-caught seafood is not available. Everything on a menu would have to be packaged, frozen and shipped. What mitigates the impact of this, however, is that Atlanta is a major tranportation hub - boasting the busiest airport in the Western Hemisphere and crisscrossed by 3 interstate highways. Frozen seafood can be shipped there quickly.\n\nWhile Red Lobster, Bonefish Grill, and Long John Silver's are fine eateries, East Cobb would benefit from a quality, independently-owned, authentic seafood resturant with a diverse menu."
        },
        {
            "cell_type": "markdown",
            "metadata": {},
            "source": "<h2>The Data</h2>"
        },
        {
            "cell_type": "markdown",
            "metadata": {},
            "source": "Data will be downloaded from FourSquare and analyzed. \nThe analysis will attempt to determine one or more locations where a seafood resturaunt such as that described, would thrive. Obviously, it would need to be in an area accessible to the people who live in East Cobb, and to coummunities within a reasonble commute from East Cobb. Because FourSquare data does not contain detailed data on commercial real estate lease and purchase rates, that will not factor into the analysis. For purposes of this research, we will limit exploration to areas not currently served (or saturated) by competing eateries at the same clientele level. We will pick a central geographic location, limit the radius of our search and, without bias, see where the data leads us. While we certainly hope that some difinitive conclusions can be reached, we will not fall into the trap of \"confrimation bias\" of either preconceiving the existance of a conclusion or the nature of that conclusion."
        }
    ],
    "metadata": {
        "kernelspec": {
            "display_name": "Python 3.6",
            "language": "python",
            "name": "python3"
        },
        "language_info": {
            "codemirror_mode": {
                "name": "ipython",
                "version": 3
            },
            "file_extension": ".py",
            "mimetype": "text/x-python",
            "name": "python",
            "nbconvert_exporter": "python",
            "pygments_lexer": "ipython3",
            "version": "3.6.9"
        }
    },
    "nbformat": 4,
    "nbformat_minor": 1
}