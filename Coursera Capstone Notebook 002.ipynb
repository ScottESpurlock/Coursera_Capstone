{
    "cells": [
        {
            "cell_type": "markdown",
            "metadata": {
                "collapsed": true
            },
            "source": "<h2>What follows is Part 1 of 3 parts:</h2>"
        },
        {
            "cell_type": "markdown",
            "metadata": {},
            "source": "<h4 style=\"color: red;\">Install libraries and set options</h4>"
        },
        {
            "cell_type": "code",
            "execution_count": 261,
            "metadata": {},
            "outputs": [],
            "source": "import pandas as pd\nimport numpy as np\nimport matplotlib.pyplot as plt\nimport seaborn as sns\nimport re\n%matplotlib inline\nfrom urllib.request import urlopen\nfrom bs4 import BeautifulSoup\n\npd.set_option('display.max_columns', None)\npd.set_option('display.max_rows', None)\n\n"
        },
        {
            "cell_type": "markdown",
            "metadata": {},
            "source": "<h4 style=\"color: red;\">Open the html page</h4>"
        },
        {
            "cell_type": "code",
            "execution_count": 262,
            "metadata": {},
            "outputs": [],
            "source": "url = \"https://en.wikipedia.org/wiki/List_of_postal_codes_of_Canada:_M\"\nhtml = urlopen(url)"
        },
        {
            "cell_type": "markdown",
            "metadata": {},
            "source": "<h4 style=\"color: red;\">Spill BeautifulSoup on the html</h4>"
        },
        {
            "cell_type": "code",
            "execution_count": 263,
            "metadata": {},
            "outputs": [
                {
                    "data": {
                        "text/plain": "bs4.BeautifulSoup"
                    },
                    "execution_count": 263,
                    "metadata": {},
                    "output_type": "execute_result"
                }
            ],
            "source": "soup = BeautifulSoup(html, 'lxml')\ntype(soup)"
        },
        {
            "cell_type": "markdown",
            "metadata": {},
            "source": "<h4 style=\"color: red;\">Find all table rows</h4>"
        },
        {
            "cell_type": "code",
            "execution_count": 264,
            "metadata": {},
            "outputs": [],
            "source": "rows = soup.find_all('tr')"
        },
        {
            "cell_type": "markdown",
            "metadata": {},
            "source": "<h4 style=\"color: red;\">Load the table rows into a list</h4>"
        },
        {
            "cell_type": "code",
            "execution_count": 265,
            "metadata": {},
            "outputs": [],
            "source": "list_rows = []\n\nfor row in rows:\n    row_td = row.find_all('td')\n    str_cells = str(row_td)\n    cleantext = BeautifulSoup(str_cells, \"lxml\").get_text()\n    list_rows.append(cleantext)"
        },
        {
            "cell_type": "markdown",
            "metadata": {},
            "source": "<h4 style=\"color: red;\">Create a dataframe from the list</h4>"
        },
        {
            "cell_type": "code",
            "execution_count": 266,
            "metadata": {},
            "outputs": [
                {
                    "data": {
                        "text/html": "<div>\n<style scoped>\n    .dataframe tbody tr th:only-of-type {\n        vertical-align: middle;\n    }\n\n    .dataframe tbody tr th {\n        vertical-align: top;\n    }\n\n    .dataframe thead th {\n        text-align: right;\n    }\n</style>\n<table border=\"1\" class=\"dataframe\">\n  <thead>\n    <tr style=\"text-align: right;\">\n      <th></th>\n      <th>0</th>\n    </tr>\n  </thead>\n  <tbody>\n    <tr>\n      <th>0</th>\n      <td>[]</td>\n    </tr>\n    <tr>\n      <th>1</th>\n      <td>[M1A, Not assigned, Not assigned\\n]</td>\n    </tr>\n    <tr>\n      <th>2</th>\n      <td>[M2A, Not assigned, Not assigned\\n]</td>\n    </tr>\n    <tr>\n      <th>3</th>\n      <td>[M3A, North York, Parkwoods\\n]</td>\n    </tr>\n    <tr>\n      <th>4</th>\n      <td>[M4A, North York, Victoria Village\\n]</td>\n    </tr>\n    <tr>\n      <th>5</th>\n      <td>[M5A, Downtown Toronto, Harbourfront\\n]</td>\n    </tr>\n    <tr>\n      <th>6</th>\n      <td>[M6A, North York, Lawrence Heights\\n]</td>\n    </tr>\n    <tr>\n      <th>7</th>\n      <td>[M6A, North York, Lawrence Manor\\n]</td>\n    </tr>\n    <tr>\n      <th>8</th>\n      <td>[M7A, Downtown Toronto, Queen's Park\\n]</td>\n    </tr>\n    <tr>\n      <th>9</th>\n      <td>[M8A, Not assigned, Not assigned\\n]</td>\n    </tr>\n  </tbody>\n</table>\n</div>",
                        "text/plain": "                                         0\n0                                       []\n1      [M1A, Not assigned, Not assigned\\n]\n2      [M2A, Not assigned, Not assigned\\n]\n3           [M3A, North York, Parkwoods\\n]\n4    [M4A, North York, Victoria Village\\n]\n5  [M5A, Downtown Toronto, Harbourfront\\n]\n6    [M6A, North York, Lawrence Heights\\n]\n7      [M6A, North York, Lawrence Manor\\n]\n8  [M7A, Downtown Toronto, Queen's Park\\n]\n9      [M8A, Not assigned, Not assigned\\n]"
                    },
                    "execution_count": 266,
                    "metadata": {},
                    "output_type": "execute_result"
                }
            ],
            "source": "df = pd.DataFrame(list_rows)\ndf.head(10)"
        },
        {
            "cell_type": "markdown",
            "metadata": {},
            "source": "<h4 style=\"color: red;\">Separate the list items delimited by ','</h4>"
        },
        {
            "cell_type": "code",
            "execution_count": 267,
            "metadata": {},
            "outputs": [
                {
                    "data": {
                        "text/html": "<div>\n<style scoped>\n    .dataframe tbody tr th:only-of-type {\n        vertical-align: middle;\n    }\n\n    .dataframe tbody tr th {\n        vertical-align: top;\n    }\n\n    .dataframe thead th {\n        text-align: right;\n    }\n</style>\n<table border=\"1\" class=\"dataframe\">\n  <thead>\n    <tr style=\"text-align: right;\">\n      <th></th>\n      <th>0</th>\n      <th>1</th>\n      <th>2</th>\n      <th>3</th>\n      <th>4</th>\n      <th>5</th>\n      <th>6</th>\n      <th>7</th>\n      <th>8</th>\n      <th>9</th>\n      <th>10</th>\n      <th>11</th>\n      <th>12</th>\n      <th>13</th>\n      <th>14</th>\n      <th>15</th>\n      <th>16</th>\n      <th>17</th>\n      <th>18</th>\n      <th>19</th>\n      <th>20</th>\n      <th>21</th>\n      <th>22</th>\n      <th>23</th>\n      <th>24</th>\n      <th>25</th>\n      <th>26</th>\n      <th>27</th>\n      <th>28</th>\n      <th>29</th>\n      <th>30</th>\n    </tr>\n  </thead>\n  <tbody>\n    <tr>\n      <th>0</th>\n      <td>[]</td>\n      <td>None</td>\n      <td>None</td>\n      <td>None</td>\n      <td>None</td>\n      <td>None</td>\n      <td>None</td>\n      <td>None</td>\n      <td>None</td>\n      <td>None</td>\n      <td>None</td>\n      <td>None</td>\n      <td>None</td>\n      <td>None</td>\n      <td>None</td>\n      <td>None</td>\n      <td>None</td>\n      <td>None</td>\n      <td>None</td>\n      <td>None</td>\n      <td>None</td>\n      <td>None</td>\n      <td>None</td>\n      <td>None</td>\n      <td>None</td>\n      <td>None</td>\n      <td>None</td>\n      <td>None</td>\n      <td>None</td>\n      <td>None</td>\n      <td>None</td>\n    </tr>\n    <tr>\n      <th>1</th>\n      <td>[M1A</td>\n      <td>Not assigned</td>\n      <td>Not assigned\\n]</td>\n      <td>None</td>\n      <td>None</td>\n      <td>None</td>\n      <td>None</td>\n      <td>None</td>\n      <td>None</td>\n      <td>None</td>\n      <td>None</td>\n      <td>None</td>\n      <td>None</td>\n      <td>None</td>\n      <td>None</td>\n      <td>None</td>\n      <td>None</td>\n      <td>None</td>\n      <td>None</td>\n      <td>None</td>\n      <td>None</td>\n      <td>None</td>\n      <td>None</td>\n      <td>None</td>\n      <td>None</td>\n      <td>None</td>\n      <td>None</td>\n      <td>None</td>\n      <td>None</td>\n      <td>None</td>\n      <td>None</td>\n    </tr>\n    <tr>\n      <th>2</th>\n      <td>[M2A</td>\n      <td>Not assigned</td>\n      <td>Not assigned\\n]</td>\n      <td>None</td>\n      <td>None</td>\n      <td>None</td>\n      <td>None</td>\n      <td>None</td>\n      <td>None</td>\n      <td>None</td>\n      <td>None</td>\n      <td>None</td>\n      <td>None</td>\n      <td>None</td>\n      <td>None</td>\n      <td>None</td>\n      <td>None</td>\n      <td>None</td>\n      <td>None</td>\n      <td>None</td>\n      <td>None</td>\n      <td>None</td>\n      <td>None</td>\n      <td>None</td>\n      <td>None</td>\n      <td>None</td>\n      <td>None</td>\n      <td>None</td>\n      <td>None</td>\n      <td>None</td>\n      <td>None</td>\n    </tr>\n    <tr>\n      <th>3</th>\n      <td>[M3A</td>\n      <td>North York</td>\n      <td>Parkwoods\\n]</td>\n      <td>None</td>\n      <td>None</td>\n      <td>None</td>\n      <td>None</td>\n      <td>None</td>\n      <td>None</td>\n      <td>None</td>\n      <td>None</td>\n      <td>None</td>\n      <td>None</td>\n      <td>None</td>\n      <td>None</td>\n      <td>None</td>\n      <td>None</td>\n      <td>None</td>\n      <td>None</td>\n      <td>None</td>\n      <td>None</td>\n      <td>None</td>\n      <td>None</td>\n      <td>None</td>\n      <td>None</td>\n      <td>None</td>\n      <td>None</td>\n      <td>None</td>\n      <td>None</td>\n      <td>None</td>\n      <td>None</td>\n    </tr>\n    <tr>\n      <th>4</th>\n      <td>[M4A</td>\n      <td>North York</td>\n      <td>Victoria Village\\n]</td>\n      <td>None</td>\n      <td>None</td>\n      <td>None</td>\n      <td>None</td>\n      <td>None</td>\n      <td>None</td>\n      <td>None</td>\n      <td>None</td>\n      <td>None</td>\n      <td>None</td>\n      <td>None</td>\n      <td>None</td>\n      <td>None</td>\n      <td>None</td>\n      <td>None</td>\n      <td>None</td>\n      <td>None</td>\n      <td>None</td>\n      <td>None</td>\n      <td>None</td>\n      <td>None</td>\n      <td>None</td>\n      <td>None</td>\n      <td>None</td>\n      <td>None</td>\n      <td>None</td>\n      <td>None</td>\n      <td>None</td>\n    </tr>\n    <tr>\n      <th>5</th>\n      <td>[M5A</td>\n      <td>Downtown Toronto</td>\n      <td>Harbourfront\\n]</td>\n      <td>None</td>\n      <td>None</td>\n      <td>None</td>\n      <td>None</td>\n      <td>None</td>\n      <td>None</td>\n      <td>None</td>\n      <td>None</td>\n      <td>None</td>\n      <td>None</td>\n      <td>None</td>\n      <td>None</td>\n      <td>None</td>\n      <td>None</td>\n      <td>None</td>\n      <td>None</td>\n      <td>None</td>\n      <td>None</td>\n      <td>None</td>\n      <td>None</td>\n      <td>None</td>\n      <td>None</td>\n      <td>None</td>\n      <td>None</td>\n      <td>None</td>\n      <td>None</td>\n      <td>None</td>\n      <td>None</td>\n    </tr>\n    <tr>\n      <th>6</th>\n      <td>[M6A</td>\n      <td>North York</td>\n      <td>Lawrence Heights\\n]</td>\n      <td>None</td>\n      <td>None</td>\n      <td>None</td>\n      <td>None</td>\n      <td>None</td>\n      <td>None</td>\n      <td>None</td>\n      <td>None</td>\n      <td>None</td>\n      <td>None</td>\n      <td>None</td>\n      <td>None</td>\n      <td>None</td>\n      <td>None</td>\n      <td>None</td>\n      <td>None</td>\n      <td>None</td>\n      <td>None</td>\n      <td>None</td>\n      <td>None</td>\n      <td>None</td>\n      <td>None</td>\n      <td>None</td>\n      <td>None</td>\n      <td>None</td>\n      <td>None</td>\n      <td>None</td>\n      <td>None</td>\n    </tr>\n    <tr>\n      <th>7</th>\n      <td>[M6A</td>\n      <td>North York</td>\n      <td>Lawrence Manor\\n]</td>\n      <td>None</td>\n      <td>None</td>\n      <td>None</td>\n      <td>None</td>\n      <td>None</td>\n      <td>None</td>\n      <td>None</td>\n      <td>None</td>\n      <td>None</td>\n      <td>None</td>\n      <td>None</td>\n      <td>None</td>\n      <td>None</td>\n      <td>None</td>\n      <td>None</td>\n      <td>None</td>\n      <td>None</td>\n      <td>None</td>\n      <td>None</td>\n      <td>None</td>\n      <td>None</td>\n      <td>None</td>\n      <td>None</td>\n      <td>None</td>\n      <td>None</td>\n      <td>None</td>\n      <td>None</td>\n      <td>None</td>\n    </tr>\n    <tr>\n      <th>8</th>\n      <td>[M7A</td>\n      <td>Downtown Toronto</td>\n      <td>Queen's Park\\n]</td>\n      <td>None</td>\n      <td>None</td>\n      <td>None</td>\n      <td>None</td>\n      <td>None</td>\n      <td>None</td>\n      <td>None</td>\n      <td>None</td>\n      <td>None</td>\n      <td>None</td>\n      <td>None</td>\n      <td>None</td>\n      <td>None</td>\n      <td>None</td>\n      <td>None</td>\n      <td>None</td>\n      <td>None</td>\n      <td>None</td>\n      <td>None</td>\n      <td>None</td>\n      <td>None</td>\n      <td>None</td>\n      <td>None</td>\n      <td>None</td>\n      <td>None</td>\n      <td>None</td>\n      <td>None</td>\n      <td>None</td>\n    </tr>\n    <tr>\n      <th>9</th>\n      <td>[M8A</td>\n      <td>Not assigned</td>\n      <td>Not assigned\\n]</td>\n      <td>None</td>\n      <td>None</td>\n      <td>None</td>\n      <td>None</td>\n      <td>None</td>\n      <td>None</td>\n      <td>None</td>\n      <td>None</td>\n      <td>None</td>\n      <td>None</td>\n      <td>None</td>\n      <td>None</td>\n      <td>None</td>\n      <td>None</td>\n      <td>None</td>\n      <td>None</td>\n      <td>None</td>\n      <td>None</td>\n      <td>None</td>\n      <td>None</td>\n      <td>None</td>\n      <td>None</td>\n      <td>None</td>\n      <td>None</td>\n      <td>None</td>\n      <td>None</td>\n      <td>None</td>\n      <td>None</td>\n    </tr>\n  </tbody>\n</table>\n</div>",
                        "text/plain": "     0                  1                     2     3     4     5     6   \\\n0    []               None                  None  None  None  None  None   \n1  [M1A       Not assigned       Not assigned\\n]  None  None  None  None   \n2  [M2A       Not assigned       Not assigned\\n]  None  None  None  None   \n3  [M3A         North York          Parkwoods\\n]  None  None  None  None   \n4  [M4A         North York   Victoria Village\\n]  None  None  None  None   \n5  [M5A   Downtown Toronto       Harbourfront\\n]  None  None  None  None   \n6  [M6A         North York   Lawrence Heights\\n]  None  None  None  None   \n7  [M6A         North York     Lawrence Manor\\n]  None  None  None  None   \n8  [M7A   Downtown Toronto       Queen's Park\\n]  None  None  None  None   \n9  [M8A       Not assigned       Not assigned\\n]  None  None  None  None   \n\n     7     8     9     10    11    12    13    14    15    16    17    18  \\\n0  None  None  None  None  None  None  None  None  None  None  None  None   \n1  None  None  None  None  None  None  None  None  None  None  None  None   \n2  None  None  None  None  None  None  None  None  None  None  None  None   \n3  None  None  None  None  None  None  None  None  None  None  None  None   \n4  None  None  None  None  None  None  None  None  None  None  None  None   \n5  None  None  None  None  None  None  None  None  None  None  None  None   \n6  None  None  None  None  None  None  None  None  None  None  None  None   \n7  None  None  None  None  None  None  None  None  None  None  None  None   \n8  None  None  None  None  None  None  None  None  None  None  None  None   \n9  None  None  None  None  None  None  None  None  None  None  None  None   \n\n     19    20    21    22    23    24    25    26    27    28    29    30  \n0  None  None  None  None  None  None  None  None  None  None  None  None  \n1  None  None  None  None  None  None  None  None  None  None  None  None  \n2  None  None  None  None  None  None  None  None  None  None  None  None  \n3  None  None  None  None  None  None  None  None  None  None  None  None  \n4  None  None  None  None  None  None  None  None  None  None  None  None  \n5  None  None  None  None  None  None  None  None  None  None  None  None  \n6  None  None  None  None  None  None  None  None  None  None  None  None  \n7  None  None  None  None  None  None  None  None  None  None  None  None  \n8  None  None  None  None  None  None  None  None  None  None  None  None  \n9  None  None  None  None  None  None  None  None  None  None  None  None  "
                    },
                    "execution_count": 267,
                    "metadata": {},
                    "output_type": "execute_result"
                }
            ],
            "source": "df1 = df[0].str.split(',', expand=True)\ndf1.head(10)"
        },
        {
            "cell_type": "markdown",
            "metadata": {},
            "source": "<h4 style=\"color: red;\">Delete the brackets and newline characters from the data</h4>"
        },
        {
            "cell_type": "code",
            "execution_count": 268,
            "metadata": {},
            "outputs": [
                {
                    "data": {
                        "text/html": "<div>\n<style scoped>\n    .dataframe tbody tr th:only-of-type {\n        vertical-align: middle;\n    }\n\n    .dataframe tbody tr th {\n        vertical-align: top;\n    }\n\n    .dataframe thead th {\n        text-align: right;\n    }\n</style>\n<table border=\"1\" class=\"dataframe\">\n  <thead>\n    <tr style=\"text-align: right;\">\n      <th></th>\n      <th>0</th>\n      <th>1</th>\n      <th>2</th>\n      <th>3</th>\n      <th>4</th>\n      <th>5</th>\n      <th>6</th>\n      <th>7</th>\n      <th>8</th>\n      <th>9</th>\n      <th>10</th>\n      <th>11</th>\n      <th>12</th>\n      <th>13</th>\n      <th>14</th>\n      <th>15</th>\n      <th>16</th>\n      <th>17</th>\n      <th>18</th>\n      <th>19</th>\n      <th>20</th>\n      <th>21</th>\n      <th>22</th>\n      <th>23</th>\n      <th>24</th>\n      <th>25</th>\n      <th>26</th>\n      <th>27</th>\n      <th>28</th>\n      <th>29</th>\n      <th>30</th>\n    </tr>\n  </thead>\n  <tbody>\n    <tr>\n      <th>0</th>\n      <td></td>\n      <td>None</td>\n      <td>None</td>\n      <td>None</td>\n      <td>None</td>\n      <td>None</td>\n      <td>None</td>\n      <td>None</td>\n      <td>None</td>\n      <td>None</td>\n      <td>None</td>\n      <td>None</td>\n      <td>None</td>\n      <td>None</td>\n      <td>None</td>\n      <td>None</td>\n      <td>None</td>\n      <td>None</td>\n      <td>None</td>\n      <td>None</td>\n      <td>None</td>\n      <td>None</td>\n      <td>None</td>\n      <td>None</td>\n      <td>None</td>\n      <td>None</td>\n      <td>None</td>\n      <td>None</td>\n      <td>None</td>\n      <td>None</td>\n      <td>None</td>\n    </tr>\n    <tr>\n      <th>1</th>\n      <td>M1A</td>\n      <td>Not assigned</td>\n      <td>Not assigned</td>\n      <td>None</td>\n      <td>None</td>\n      <td>None</td>\n      <td>None</td>\n      <td>None</td>\n      <td>None</td>\n      <td>None</td>\n      <td>None</td>\n      <td>None</td>\n      <td>None</td>\n      <td>None</td>\n      <td>None</td>\n      <td>None</td>\n      <td>None</td>\n      <td>None</td>\n      <td>None</td>\n      <td>None</td>\n      <td>None</td>\n      <td>None</td>\n      <td>None</td>\n      <td>None</td>\n      <td>None</td>\n      <td>None</td>\n      <td>None</td>\n      <td>None</td>\n      <td>None</td>\n      <td>None</td>\n      <td>None</td>\n    </tr>\n    <tr>\n      <th>2</th>\n      <td>M2A</td>\n      <td>Not assigned</td>\n      <td>Not assigned</td>\n      <td>None</td>\n      <td>None</td>\n      <td>None</td>\n      <td>None</td>\n      <td>None</td>\n      <td>None</td>\n      <td>None</td>\n      <td>None</td>\n      <td>None</td>\n      <td>None</td>\n      <td>None</td>\n      <td>None</td>\n      <td>None</td>\n      <td>None</td>\n      <td>None</td>\n      <td>None</td>\n      <td>None</td>\n      <td>None</td>\n      <td>None</td>\n      <td>None</td>\n      <td>None</td>\n      <td>None</td>\n      <td>None</td>\n      <td>None</td>\n      <td>None</td>\n      <td>None</td>\n      <td>None</td>\n      <td>None</td>\n    </tr>\n    <tr>\n      <th>3</th>\n      <td>M3A</td>\n      <td>North York</td>\n      <td>Parkwoods</td>\n      <td>None</td>\n      <td>None</td>\n      <td>None</td>\n      <td>None</td>\n      <td>None</td>\n      <td>None</td>\n      <td>None</td>\n      <td>None</td>\n      <td>None</td>\n      <td>None</td>\n      <td>None</td>\n      <td>None</td>\n      <td>None</td>\n      <td>None</td>\n      <td>None</td>\n      <td>None</td>\n      <td>None</td>\n      <td>None</td>\n      <td>None</td>\n      <td>None</td>\n      <td>None</td>\n      <td>None</td>\n      <td>None</td>\n      <td>None</td>\n      <td>None</td>\n      <td>None</td>\n      <td>None</td>\n      <td>None</td>\n    </tr>\n    <tr>\n      <th>4</th>\n      <td>M4A</td>\n      <td>North York</td>\n      <td>Victoria Village</td>\n      <td>None</td>\n      <td>None</td>\n      <td>None</td>\n      <td>None</td>\n      <td>None</td>\n      <td>None</td>\n      <td>None</td>\n      <td>None</td>\n      <td>None</td>\n      <td>None</td>\n      <td>None</td>\n      <td>None</td>\n      <td>None</td>\n      <td>None</td>\n      <td>None</td>\n      <td>None</td>\n      <td>None</td>\n      <td>None</td>\n      <td>None</td>\n      <td>None</td>\n      <td>None</td>\n      <td>None</td>\n      <td>None</td>\n      <td>None</td>\n      <td>None</td>\n      <td>None</td>\n      <td>None</td>\n      <td>None</td>\n    </tr>\n    <tr>\n      <th>5</th>\n      <td>M5A</td>\n      <td>Downtown Toronto</td>\n      <td>Harbourfront</td>\n      <td>None</td>\n      <td>None</td>\n      <td>None</td>\n      <td>None</td>\n      <td>None</td>\n      <td>None</td>\n      <td>None</td>\n      <td>None</td>\n      <td>None</td>\n      <td>None</td>\n      <td>None</td>\n      <td>None</td>\n      <td>None</td>\n      <td>None</td>\n      <td>None</td>\n      <td>None</td>\n      <td>None</td>\n      <td>None</td>\n      <td>None</td>\n      <td>None</td>\n      <td>None</td>\n      <td>None</td>\n      <td>None</td>\n      <td>None</td>\n      <td>None</td>\n      <td>None</td>\n      <td>None</td>\n      <td>None</td>\n    </tr>\n    <tr>\n      <th>6</th>\n      <td>M6A</td>\n      <td>North York</td>\n      <td>Lawrence Heights</td>\n      <td>None</td>\n      <td>None</td>\n      <td>None</td>\n      <td>None</td>\n      <td>None</td>\n      <td>None</td>\n      <td>None</td>\n      <td>None</td>\n      <td>None</td>\n      <td>None</td>\n      <td>None</td>\n      <td>None</td>\n      <td>None</td>\n      <td>None</td>\n      <td>None</td>\n      <td>None</td>\n      <td>None</td>\n      <td>None</td>\n      <td>None</td>\n      <td>None</td>\n      <td>None</td>\n      <td>None</td>\n      <td>None</td>\n      <td>None</td>\n      <td>None</td>\n      <td>None</td>\n      <td>None</td>\n      <td>None</td>\n    </tr>\n    <tr>\n      <th>7</th>\n      <td>M6A</td>\n      <td>North York</td>\n      <td>Lawrence Manor</td>\n      <td>None</td>\n      <td>None</td>\n      <td>None</td>\n      <td>None</td>\n      <td>None</td>\n      <td>None</td>\n      <td>None</td>\n      <td>None</td>\n      <td>None</td>\n      <td>None</td>\n      <td>None</td>\n      <td>None</td>\n      <td>None</td>\n      <td>None</td>\n      <td>None</td>\n      <td>None</td>\n      <td>None</td>\n      <td>None</td>\n      <td>None</td>\n      <td>None</td>\n      <td>None</td>\n      <td>None</td>\n      <td>None</td>\n      <td>None</td>\n      <td>None</td>\n      <td>None</td>\n      <td>None</td>\n      <td>None</td>\n    </tr>\n    <tr>\n      <th>8</th>\n      <td>M7A</td>\n      <td>Downtown Toronto</td>\n      <td>Queen's Park</td>\n      <td>None</td>\n      <td>None</td>\n      <td>None</td>\n      <td>None</td>\n      <td>None</td>\n      <td>None</td>\n      <td>None</td>\n      <td>None</td>\n      <td>None</td>\n      <td>None</td>\n      <td>None</td>\n      <td>None</td>\n      <td>None</td>\n      <td>None</td>\n      <td>None</td>\n      <td>None</td>\n      <td>None</td>\n      <td>None</td>\n      <td>None</td>\n      <td>None</td>\n      <td>None</td>\n      <td>None</td>\n      <td>None</td>\n      <td>None</td>\n      <td>None</td>\n      <td>None</td>\n      <td>None</td>\n      <td>None</td>\n    </tr>\n    <tr>\n      <th>9</th>\n      <td>M8A</td>\n      <td>Not assigned</td>\n      <td>Not assigned</td>\n      <td>None</td>\n      <td>None</td>\n      <td>None</td>\n      <td>None</td>\n      <td>None</td>\n      <td>None</td>\n      <td>None</td>\n      <td>None</td>\n      <td>None</td>\n      <td>None</td>\n      <td>None</td>\n      <td>None</td>\n      <td>None</td>\n      <td>None</td>\n      <td>None</td>\n      <td>None</td>\n      <td>None</td>\n      <td>None</td>\n      <td>None</td>\n      <td>None</td>\n      <td>None</td>\n      <td>None</td>\n      <td>None</td>\n      <td>None</td>\n      <td>None</td>\n      <td>None</td>\n      <td>None</td>\n      <td>None</td>\n    </tr>\n  </tbody>\n</table>\n</div>",
                        "text/plain": "    0                  1                  2     3     4     5     6     7   \\\n0                    None               None  None  None  None  None  None   \n1  M1A       Not assigned       Not assigned  None  None  None  None  None   \n2  M2A       Not assigned       Not assigned  None  None  None  None  None   \n3  M3A         North York          Parkwoods  None  None  None  None  None   \n4  M4A         North York   Victoria Village  None  None  None  None  None   \n5  M5A   Downtown Toronto       Harbourfront  None  None  None  None  None   \n6  M6A         North York   Lawrence Heights  None  None  None  None  None   \n7  M6A         North York     Lawrence Manor  None  None  None  None  None   \n8  M7A   Downtown Toronto       Queen's Park  None  None  None  None  None   \n9  M8A       Not assigned       Not assigned  None  None  None  None  None   \n\n     8     9     10    11    12    13    14    15    16    17    18    19  \\\n0  None  None  None  None  None  None  None  None  None  None  None  None   \n1  None  None  None  None  None  None  None  None  None  None  None  None   \n2  None  None  None  None  None  None  None  None  None  None  None  None   \n3  None  None  None  None  None  None  None  None  None  None  None  None   \n4  None  None  None  None  None  None  None  None  None  None  None  None   \n5  None  None  None  None  None  None  None  None  None  None  None  None   \n6  None  None  None  None  None  None  None  None  None  None  None  None   \n7  None  None  None  None  None  None  None  None  None  None  None  None   \n8  None  None  None  None  None  None  None  None  None  None  None  None   \n9  None  None  None  None  None  None  None  None  None  None  None  None   \n\n     20    21    22    23    24    25    26    27    28    29    30  \n0  None  None  None  None  None  None  None  None  None  None  None  \n1  None  None  None  None  None  None  None  None  None  None  None  \n2  None  None  None  None  None  None  None  None  None  None  None  \n3  None  None  None  None  None  None  None  None  None  None  None  \n4  None  None  None  None  None  None  None  None  None  None  None  \n5  None  None  None  None  None  None  None  None  None  None  None  \n6  None  None  None  None  None  None  None  None  None  None  None  \n7  None  None  None  None  None  None  None  None  None  None  None  \n8  None  None  None  None  None  None  None  None  None  None  None  \n9  None  None  None  None  None  None  None  None  None  None  None  "
                    },
                    "execution_count": 268,
                    "metadata": {},
                    "output_type": "execute_result"
                }
            ],
            "source": "df1[0] = df1[0].str.strip('[')\ndf1[0] = df1[0].str.strip(']')\ndf1[2] = df1[2].str.strip('\\n]')\ndf1.head(10)"
        },
        {
            "cell_type": "markdown",
            "metadata": {},
            "source": "<h4 style=\"color: red;\">Find the column headers</h4>"
        },
        {
            "cell_type": "code",
            "execution_count": 269,
            "metadata": {},
            "outputs": [],
            "source": "col_labels = soup.find_all('th')"
        },
        {
            "cell_type": "markdown",
            "metadata": {},
            "source": "<h4 style=\"color: red;\">Load the headers into a list</h4>"
        },
        {
            "cell_type": "code",
            "execution_count": 270,
            "metadata": {},
            "outputs": [],
            "source": "all_header = []\ncol_str = str(col_labels)\ncleantext2 = BeautifulSoup(col_str, \"lxml\").get_text()\nall_header.append(cleantext2)"
        },
        {
            "cell_type": "markdown",
            "metadata": {},
            "source": "<h4 style=\"color: red;\">Create a dataframe from the list of headers</h4>"
        },
        {
            "cell_type": "code",
            "execution_count": 271,
            "metadata": {},
            "outputs": [
                {
                    "data": {
                        "text/html": "<div>\n<style scoped>\n    .dataframe tbody tr th:only-of-type {\n        vertical-align: middle;\n    }\n\n    .dataframe tbody tr th {\n        vertical-align: top;\n    }\n\n    .dataframe thead th {\n        text-align: right;\n    }\n</style>\n<table border=\"1\" class=\"dataframe\">\n  <thead>\n    <tr style=\"text-align: right;\">\n      <th></th>\n      <th>0</th>\n    </tr>\n  </thead>\n  <tbody>\n    <tr>\n      <th>0</th>\n      <td>[Postcode, Borough, Neighbourhood\\n, Canadian ...</td>\n    </tr>\n  </tbody>\n</table>\n</div>",
                        "text/plain": "                                                   0\n0  [Postcode, Borough, Neighbourhood\\n, Canadian ..."
                    },
                    "execution_count": 271,
                    "metadata": {},
                    "output_type": "execute_result"
                }
            ],
            "source": "df2 = pd.DataFrame(all_header)\ndf2.head()"
        },
        {
            "cell_type": "markdown",
            "metadata": {},
            "source": "<h4 style=\"color: red;\">Separate the list items delimited by ','</h4>"
        },
        {
            "cell_type": "code",
            "execution_count": 272,
            "metadata": {},
            "outputs": [
                {
                    "data": {
                        "text/html": "<div>\n<style scoped>\n    .dataframe tbody tr th:only-of-type {\n        vertical-align: middle;\n    }\n\n    .dataframe tbody tr th {\n        vertical-align: top;\n    }\n\n    .dataframe thead th {\n        text-align: right;\n    }\n</style>\n<table border=\"1\" class=\"dataframe\">\n  <thead>\n    <tr style=\"text-align: right;\">\n      <th></th>\n      <th>0</th>\n      <th>1</th>\n      <th>2</th>\n      <th>3</th>\n    </tr>\n  </thead>\n  <tbody>\n    <tr>\n      <th>0</th>\n      <td>[Postcode</td>\n      <td>Borough</td>\n      <td>Neighbourhood\\n</td>\n      <td>Canadian postal codes\\n]</td>\n    </tr>\n  </tbody>\n</table>\n</div>",
                        "text/plain": "           0         1                 2                          3\n0  [Postcode   Borough   Neighbourhood\\n   Canadian postal codes\\n]"
                    },
                    "execution_count": 272,
                    "metadata": {},
                    "output_type": "execute_result"
                }
            ],
            "source": "df3 = df2[0].str.split(',', expand=True)\ndf3.head()"
        },
        {
            "cell_type": "markdown",
            "metadata": {},
            "source": "<h4 style=\"color: red;\">Delete the brackets and newline characters from the data</h4>"
        },
        {
            "cell_type": "code",
            "execution_count": 305,
            "metadata": {},
            "outputs": [
                {
                    "data": {
                        "text/html": "<div>\n<style scoped>\n    .dataframe tbody tr th:only-of-type {\n        vertical-align: middle;\n    }\n\n    .dataframe tbody tr th {\n        vertical-align: top;\n    }\n\n    .dataframe thead th {\n        text-align: right;\n    }\n</style>\n<table border=\"1\" class=\"dataframe\">\n  <thead>\n    <tr style=\"text-align: right;\">\n      <th></th>\n      <th>0</th>\n      <th>1</th>\n      <th>2</th>\n      <th>3</th>\n    </tr>\n  </thead>\n  <tbody>\n    <tr>\n      <th>0</th>\n      <td>Postcode</td>\n      <td>Borough</td>\n      <td>Neighbourhood</td>\n      <td>Canadian postal codes</td>\n    </tr>\n  </tbody>\n</table>\n</div>",
                        "text/plain": "          0         1               2                       3\n0  Postcode   Borough   Neighbourhood   Canadian postal codes"
                    },
                    "execution_count": 305,
                    "metadata": {},
                    "output_type": "execute_result"
                }
            ],
            "source": "df3[0] = df3[0].str.strip('[')\ndf3[2] = df3[2].str.strip('\\n')\ndf3[3] = df3[3].str.strip('\\n]')\ndf3.head()"
        },
        {
            "cell_type": "markdown",
            "metadata": {},
            "source": "<h4 style=\"color: red;\">Merge the headers and data into a single dataframe</h4>"
        },
        {
            "cell_type": "code",
            "execution_count": 306,
            "metadata": {},
            "outputs": [
                {
                    "data": {
                        "text/html": "<div>\n<style scoped>\n    .dataframe tbody tr th:only-of-type {\n        vertical-align: middle;\n    }\n\n    .dataframe tbody tr th {\n        vertical-align: top;\n    }\n\n    .dataframe thead th {\n        text-align: right;\n    }\n</style>\n<table border=\"1\" class=\"dataframe\">\n  <thead>\n    <tr style=\"text-align: right;\">\n      <th></th>\n      <th>0</th>\n      <th>1</th>\n      <th>2</th>\n      <th>3</th>\n      <th>4</th>\n      <th>5</th>\n      <th>6</th>\n      <th>7</th>\n      <th>8</th>\n      <th>9</th>\n      <th>10</th>\n      <th>11</th>\n      <th>12</th>\n      <th>13</th>\n      <th>14</th>\n      <th>15</th>\n      <th>16</th>\n      <th>17</th>\n      <th>18</th>\n      <th>19</th>\n      <th>20</th>\n      <th>21</th>\n      <th>22</th>\n      <th>23</th>\n      <th>24</th>\n      <th>25</th>\n      <th>26</th>\n      <th>27</th>\n      <th>28</th>\n      <th>29</th>\n      <th>30</th>\n    </tr>\n  </thead>\n  <tbody>\n    <tr>\n      <th>0</th>\n      <td>Postcode</td>\n      <td>Borough</td>\n      <td>Neighbourhood</td>\n      <td>Canadian postal codes</td>\n      <td>NaN</td>\n      <td>NaN</td>\n      <td>NaN</td>\n      <td>NaN</td>\n      <td>NaN</td>\n      <td>NaN</td>\n      <td>NaN</td>\n      <td>NaN</td>\n      <td>NaN</td>\n      <td>NaN</td>\n      <td>NaN</td>\n      <td>NaN</td>\n      <td>NaN</td>\n      <td>NaN</td>\n      <td>NaN</td>\n      <td>NaN</td>\n      <td>NaN</td>\n      <td>NaN</td>\n      <td>NaN</td>\n      <td>NaN</td>\n      <td>NaN</td>\n      <td>NaN</td>\n      <td>NaN</td>\n      <td>NaN</td>\n      <td>NaN</td>\n      <td>NaN</td>\n      <td>NaN</td>\n    </tr>\n    <tr>\n      <th>0</th>\n      <td></td>\n      <td>None</td>\n      <td>None</td>\n      <td>None</td>\n      <td>None</td>\n      <td>None</td>\n      <td>None</td>\n      <td>None</td>\n      <td>None</td>\n      <td>None</td>\n      <td>None</td>\n      <td>None</td>\n      <td>None</td>\n      <td>None</td>\n      <td>None</td>\n      <td>None</td>\n      <td>None</td>\n      <td>None</td>\n      <td>None</td>\n      <td>None</td>\n      <td>None</td>\n      <td>None</td>\n      <td>None</td>\n      <td>None</td>\n      <td>None</td>\n      <td>None</td>\n      <td>None</td>\n      <td>None</td>\n      <td>None</td>\n      <td>None</td>\n      <td>None</td>\n    </tr>\n    <tr>\n      <th>1</th>\n      <td>M1A</td>\n      <td>Not assigned</td>\n      <td>Not assigned</td>\n      <td>None</td>\n      <td>None</td>\n      <td>None</td>\n      <td>None</td>\n      <td>None</td>\n      <td>None</td>\n      <td>None</td>\n      <td>None</td>\n      <td>None</td>\n      <td>None</td>\n      <td>None</td>\n      <td>None</td>\n      <td>None</td>\n      <td>None</td>\n      <td>None</td>\n      <td>None</td>\n      <td>None</td>\n      <td>None</td>\n      <td>None</td>\n      <td>None</td>\n      <td>None</td>\n      <td>None</td>\n      <td>None</td>\n      <td>None</td>\n      <td>None</td>\n      <td>None</td>\n      <td>None</td>\n      <td>None</td>\n    </tr>\n    <tr>\n      <th>2</th>\n      <td>M2A</td>\n      <td>Not assigned</td>\n      <td>Not assigned</td>\n      <td>None</td>\n      <td>None</td>\n      <td>None</td>\n      <td>None</td>\n      <td>None</td>\n      <td>None</td>\n      <td>None</td>\n      <td>None</td>\n      <td>None</td>\n      <td>None</td>\n      <td>None</td>\n      <td>None</td>\n      <td>None</td>\n      <td>None</td>\n      <td>None</td>\n      <td>None</td>\n      <td>None</td>\n      <td>None</td>\n      <td>None</td>\n      <td>None</td>\n      <td>None</td>\n      <td>None</td>\n      <td>None</td>\n      <td>None</td>\n      <td>None</td>\n      <td>None</td>\n      <td>None</td>\n      <td>None</td>\n    </tr>\n    <tr>\n      <th>3</th>\n      <td>M3A</td>\n      <td>North York</td>\n      <td>Parkwoods</td>\n      <td>None</td>\n      <td>None</td>\n      <td>None</td>\n      <td>None</td>\n      <td>None</td>\n      <td>None</td>\n      <td>None</td>\n      <td>None</td>\n      <td>None</td>\n      <td>None</td>\n      <td>None</td>\n      <td>None</td>\n      <td>None</td>\n      <td>None</td>\n      <td>None</td>\n      <td>None</td>\n      <td>None</td>\n      <td>None</td>\n      <td>None</td>\n      <td>None</td>\n      <td>None</td>\n      <td>None</td>\n      <td>None</td>\n      <td>None</td>\n      <td>None</td>\n      <td>None</td>\n      <td>None</td>\n      <td>None</td>\n    </tr>\n    <tr>\n      <th>4</th>\n      <td>M4A</td>\n      <td>North York</td>\n      <td>Victoria Village</td>\n      <td>None</td>\n      <td>None</td>\n      <td>None</td>\n      <td>None</td>\n      <td>None</td>\n      <td>None</td>\n      <td>None</td>\n      <td>None</td>\n      <td>None</td>\n      <td>None</td>\n      <td>None</td>\n      <td>None</td>\n      <td>None</td>\n      <td>None</td>\n      <td>None</td>\n      <td>None</td>\n      <td>None</td>\n      <td>None</td>\n      <td>None</td>\n      <td>None</td>\n      <td>None</td>\n      <td>None</td>\n      <td>None</td>\n      <td>None</td>\n      <td>None</td>\n      <td>None</td>\n      <td>None</td>\n      <td>None</td>\n    </tr>\n    <tr>\n      <th>5</th>\n      <td>M5A</td>\n      <td>Downtown Toronto</td>\n      <td>Harbourfront</td>\n      <td>None</td>\n      <td>None</td>\n      <td>None</td>\n      <td>None</td>\n      <td>None</td>\n      <td>None</td>\n      <td>None</td>\n      <td>None</td>\n      <td>None</td>\n      <td>None</td>\n      <td>None</td>\n      <td>None</td>\n      <td>None</td>\n      <td>None</td>\n      <td>None</td>\n      <td>None</td>\n      <td>None</td>\n      <td>None</td>\n      <td>None</td>\n      <td>None</td>\n      <td>None</td>\n      <td>None</td>\n      <td>None</td>\n      <td>None</td>\n      <td>None</td>\n      <td>None</td>\n      <td>None</td>\n      <td>None</td>\n    </tr>\n    <tr>\n      <th>6</th>\n      <td>M6A</td>\n      <td>North York</td>\n      <td>Lawrence Heights</td>\n      <td>None</td>\n      <td>None</td>\n      <td>None</td>\n      <td>None</td>\n      <td>None</td>\n      <td>None</td>\n      <td>None</td>\n      <td>None</td>\n      <td>None</td>\n      <td>None</td>\n      <td>None</td>\n      <td>None</td>\n      <td>None</td>\n      <td>None</td>\n      <td>None</td>\n      <td>None</td>\n      <td>None</td>\n      <td>None</td>\n      <td>None</td>\n      <td>None</td>\n      <td>None</td>\n      <td>None</td>\n      <td>None</td>\n      <td>None</td>\n      <td>None</td>\n      <td>None</td>\n      <td>None</td>\n      <td>None</td>\n    </tr>\n    <tr>\n      <th>7</th>\n      <td>M6A</td>\n      <td>North York</td>\n      <td>Lawrence Manor</td>\n      <td>None</td>\n      <td>None</td>\n      <td>None</td>\n      <td>None</td>\n      <td>None</td>\n      <td>None</td>\n      <td>None</td>\n      <td>None</td>\n      <td>None</td>\n      <td>None</td>\n      <td>None</td>\n      <td>None</td>\n      <td>None</td>\n      <td>None</td>\n      <td>None</td>\n      <td>None</td>\n      <td>None</td>\n      <td>None</td>\n      <td>None</td>\n      <td>None</td>\n      <td>None</td>\n      <td>None</td>\n      <td>None</td>\n      <td>None</td>\n      <td>None</td>\n      <td>None</td>\n      <td>None</td>\n      <td>None</td>\n    </tr>\n    <tr>\n      <th>8</th>\n      <td>M7A</td>\n      <td>Downtown Toronto</td>\n      <td>Queen's Park</td>\n      <td>None</td>\n      <td>None</td>\n      <td>None</td>\n      <td>None</td>\n      <td>None</td>\n      <td>None</td>\n      <td>None</td>\n      <td>None</td>\n      <td>None</td>\n      <td>None</td>\n      <td>None</td>\n      <td>None</td>\n      <td>None</td>\n      <td>None</td>\n      <td>None</td>\n      <td>None</td>\n      <td>None</td>\n      <td>None</td>\n      <td>None</td>\n      <td>None</td>\n      <td>None</td>\n      <td>None</td>\n      <td>None</td>\n      <td>None</td>\n      <td>None</td>\n      <td>None</td>\n      <td>None</td>\n      <td>None</td>\n    </tr>\n  </tbody>\n</table>\n</div>",
                        "text/plain": "         0                  1                  2                       3   \\\n0  Postcode            Borough      Neighbourhood   Canadian postal codes   \n0                         None               None                    None   \n1       M1A       Not assigned       Not assigned                    None   \n2       M2A       Not assigned       Not assigned                    None   \n3       M3A         North York          Parkwoods                    None   \n4       M4A         North York   Victoria Village                    None   \n5       M5A   Downtown Toronto       Harbourfront                    None   \n6       M6A         North York   Lawrence Heights                    None   \n7       M6A         North York     Lawrence Manor                    None   \n8       M7A   Downtown Toronto       Queen's Park                    None   \n\n     4     5     6     7     8     9     10    11    12    13    14    15  \\\n0   NaN   NaN   NaN   NaN   NaN   NaN   NaN   NaN   NaN   NaN   NaN   NaN   \n0  None  None  None  None  None  None  None  None  None  None  None  None   \n1  None  None  None  None  None  None  None  None  None  None  None  None   \n2  None  None  None  None  None  None  None  None  None  None  None  None   \n3  None  None  None  None  None  None  None  None  None  None  None  None   \n4  None  None  None  None  None  None  None  None  None  None  None  None   \n5  None  None  None  None  None  None  None  None  None  None  None  None   \n6  None  None  None  None  None  None  None  None  None  None  None  None   \n7  None  None  None  None  None  None  None  None  None  None  None  None   \n8  None  None  None  None  None  None  None  None  None  None  None  None   \n\n     16    17    18    19    20    21    22    23    24    25    26    27  \\\n0   NaN   NaN   NaN   NaN   NaN   NaN   NaN   NaN   NaN   NaN   NaN   NaN   \n0  None  None  None  None  None  None  None  None  None  None  None  None   \n1  None  None  None  None  None  None  None  None  None  None  None  None   \n2  None  None  None  None  None  None  None  None  None  None  None  None   \n3  None  None  None  None  None  None  None  None  None  None  None  None   \n4  None  None  None  None  None  None  None  None  None  None  None  None   \n5  None  None  None  None  None  None  None  None  None  None  None  None   \n6  None  None  None  None  None  None  None  None  None  None  None  None   \n7  None  None  None  None  None  None  None  None  None  None  None  None   \n8  None  None  None  None  None  None  None  None  None  None  None  None   \n\n     28    29    30  \n0   NaN   NaN   NaN  \n0  None  None  None  \n1  None  None  None  \n2  None  None  None  \n3  None  None  None  \n4  None  None  None  \n5  None  None  None  \n6  None  None  None  \n7  None  None  None  \n8  None  None  None  "
                    },
                    "execution_count": 306,
                    "metadata": {},
                    "output_type": "execute_result"
                }
            ],
            "source": "frames = [df3, df1]\ndf4 = pd.concat(frames)\ndf4.head(10)"
        },
        {
            "cell_type": "markdown",
            "metadata": {},
            "source": "<h4 style=\"color: red;\">Make the first row column headers</h4>"
        },
        {
            "cell_type": "code",
            "execution_count": 307,
            "metadata": {},
            "outputs": [
                {
                    "data": {
                        "text/html": "<div>\n<style scoped>\n    .dataframe tbody tr th:only-of-type {\n        vertical-align: middle;\n    }\n\n    .dataframe tbody tr th {\n        vertical-align: top;\n    }\n\n    .dataframe thead th {\n        text-align: right;\n    }\n</style>\n<table border=\"1\" class=\"dataframe\">\n  <thead>\n    <tr style=\"text-align: right;\">\n      <th></th>\n      <th>Postcode</th>\n      <th>Borough</th>\n      <th>Neighbourhood</th>\n      <th>Canadian postal codes</th>\n      <th>nan</th>\n      <th>nan</th>\n      <th>nan</th>\n      <th>nan</th>\n      <th>nan</th>\n      <th>nan</th>\n      <th>nan</th>\n      <th>nan</th>\n      <th>nan</th>\n      <th>nan</th>\n      <th>nan</th>\n      <th>nan</th>\n      <th>nan</th>\n      <th>nan</th>\n      <th>nan</th>\n      <th>nan</th>\n      <th>nan</th>\n      <th>nan</th>\n      <th>nan</th>\n      <th>nan</th>\n      <th>nan</th>\n      <th>nan</th>\n      <th>nan</th>\n      <th>nan</th>\n      <th>nan</th>\n      <th>nan</th>\n      <th>nan</th>\n    </tr>\n  </thead>\n  <tbody>\n    <tr>\n      <th>0</th>\n      <td>Postcode</td>\n      <td>Borough</td>\n      <td>Neighbourhood</td>\n      <td>Canadian postal codes</td>\n      <td>NaN</td>\n      <td>NaN</td>\n      <td>NaN</td>\n      <td>NaN</td>\n      <td>NaN</td>\n      <td>NaN</td>\n      <td>NaN</td>\n      <td>NaN</td>\n      <td>NaN</td>\n      <td>NaN</td>\n      <td>NaN</td>\n      <td>NaN</td>\n      <td>NaN</td>\n      <td>NaN</td>\n      <td>NaN</td>\n      <td>NaN</td>\n      <td>NaN</td>\n      <td>NaN</td>\n      <td>NaN</td>\n      <td>NaN</td>\n      <td>NaN</td>\n      <td>NaN</td>\n      <td>NaN</td>\n      <td>NaN</td>\n      <td>NaN</td>\n      <td>NaN</td>\n      <td>NaN</td>\n    </tr>\n    <tr>\n      <th>0</th>\n      <td></td>\n      <td>None</td>\n      <td>None</td>\n      <td>None</td>\n      <td>None</td>\n      <td>None</td>\n      <td>None</td>\n      <td>None</td>\n      <td>None</td>\n      <td>None</td>\n      <td>None</td>\n      <td>None</td>\n      <td>None</td>\n      <td>None</td>\n      <td>None</td>\n      <td>None</td>\n      <td>None</td>\n      <td>None</td>\n      <td>None</td>\n      <td>None</td>\n      <td>None</td>\n      <td>None</td>\n      <td>None</td>\n      <td>None</td>\n      <td>None</td>\n      <td>None</td>\n      <td>None</td>\n      <td>None</td>\n      <td>None</td>\n      <td>None</td>\n      <td>None</td>\n    </tr>\n    <tr>\n      <th>1</th>\n      <td>M1A</td>\n      <td>Not assigned</td>\n      <td>Not assigned</td>\n      <td>None</td>\n      <td>None</td>\n      <td>None</td>\n      <td>None</td>\n      <td>None</td>\n      <td>None</td>\n      <td>None</td>\n      <td>None</td>\n      <td>None</td>\n      <td>None</td>\n      <td>None</td>\n      <td>None</td>\n      <td>None</td>\n      <td>None</td>\n      <td>None</td>\n      <td>None</td>\n      <td>None</td>\n      <td>None</td>\n      <td>None</td>\n      <td>None</td>\n      <td>None</td>\n      <td>None</td>\n      <td>None</td>\n      <td>None</td>\n      <td>None</td>\n      <td>None</td>\n      <td>None</td>\n      <td>None</td>\n    </tr>\n    <tr>\n      <th>2</th>\n      <td>M2A</td>\n      <td>Not assigned</td>\n      <td>Not assigned</td>\n      <td>None</td>\n      <td>None</td>\n      <td>None</td>\n      <td>None</td>\n      <td>None</td>\n      <td>None</td>\n      <td>None</td>\n      <td>None</td>\n      <td>None</td>\n      <td>None</td>\n      <td>None</td>\n      <td>None</td>\n      <td>None</td>\n      <td>None</td>\n      <td>None</td>\n      <td>None</td>\n      <td>None</td>\n      <td>None</td>\n      <td>None</td>\n      <td>None</td>\n      <td>None</td>\n      <td>None</td>\n      <td>None</td>\n      <td>None</td>\n      <td>None</td>\n      <td>None</td>\n      <td>None</td>\n      <td>None</td>\n    </tr>\n    <tr>\n      <th>3</th>\n      <td>M3A</td>\n      <td>North York</td>\n      <td>Parkwoods</td>\n      <td>None</td>\n      <td>None</td>\n      <td>None</td>\n      <td>None</td>\n      <td>None</td>\n      <td>None</td>\n      <td>None</td>\n      <td>None</td>\n      <td>None</td>\n      <td>None</td>\n      <td>None</td>\n      <td>None</td>\n      <td>None</td>\n      <td>None</td>\n      <td>None</td>\n      <td>None</td>\n      <td>None</td>\n      <td>None</td>\n      <td>None</td>\n      <td>None</td>\n      <td>None</td>\n      <td>None</td>\n      <td>None</td>\n      <td>None</td>\n      <td>None</td>\n      <td>None</td>\n      <td>None</td>\n      <td>None</td>\n    </tr>\n    <tr>\n      <th>4</th>\n      <td>M4A</td>\n      <td>North York</td>\n      <td>Victoria Village</td>\n      <td>None</td>\n      <td>None</td>\n      <td>None</td>\n      <td>None</td>\n      <td>None</td>\n      <td>None</td>\n      <td>None</td>\n      <td>None</td>\n      <td>None</td>\n      <td>None</td>\n      <td>None</td>\n      <td>None</td>\n      <td>None</td>\n      <td>None</td>\n      <td>None</td>\n      <td>None</td>\n      <td>None</td>\n      <td>None</td>\n      <td>None</td>\n      <td>None</td>\n      <td>None</td>\n      <td>None</td>\n      <td>None</td>\n      <td>None</td>\n      <td>None</td>\n      <td>None</td>\n      <td>None</td>\n      <td>None</td>\n    </tr>\n    <tr>\n      <th>5</th>\n      <td>M5A</td>\n      <td>Downtown Toronto</td>\n      <td>Harbourfront</td>\n      <td>None</td>\n      <td>None</td>\n      <td>None</td>\n      <td>None</td>\n      <td>None</td>\n      <td>None</td>\n      <td>None</td>\n      <td>None</td>\n      <td>None</td>\n      <td>None</td>\n      <td>None</td>\n      <td>None</td>\n      <td>None</td>\n      <td>None</td>\n      <td>None</td>\n      <td>None</td>\n      <td>None</td>\n      <td>None</td>\n      <td>None</td>\n      <td>None</td>\n      <td>None</td>\n      <td>None</td>\n      <td>None</td>\n      <td>None</td>\n      <td>None</td>\n      <td>None</td>\n      <td>None</td>\n      <td>None</td>\n    </tr>\n    <tr>\n      <th>6</th>\n      <td>M6A</td>\n      <td>North York</td>\n      <td>Lawrence Heights</td>\n      <td>None</td>\n      <td>None</td>\n      <td>None</td>\n      <td>None</td>\n      <td>None</td>\n      <td>None</td>\n      <td>None</td>\n      <td>None</td>\n      <td>None</td>\n      <td>None</td>\n      <td>None</td>\n      <td>None</td>\n      <td>None</td>\n      <td>None</td>\n      <td>None</td>\n      <td>None</td>\n      <td>None</td>\n      <td>None</td>\n      <td>None</td>\n      <td>None</td>\n      <td>None</td>\n      <td>None</td>\n      <td>None</td>\n      <td>None</td>\n      <td>None</td>\n      <td>None</td>\n      <td>None</td>\n      <td>None</td>\n    </tr>\n    <tr>\n      <th>7</th>\n      <td>M6A</td>\n      <td>North York</td>\n      <td>Lawrence Manor</td>\n      <td>None</td>\n      <td>None</td>\n      <td>None</td>\n      <td>None</td>\n      <td>None</td>\n      <td>None</td>\n      <td>None</td>\n      <td>None</td>\n      <td>None</td>\n      <td>None</td>\n      <td>None</td>\n      <td>None</td>\n      <td>None</td>\n      <td>None</td>\n      <td>None</td>\n      <td>None</td>\n      <td>None</td>\n      <td>None</td>\n      <td>None</td>\n      <td>None</td>\n      <td>None</td>\n      <td>None</td>\n      <td>None</td>\n      <td>None</td>\n      <td>None</td>\n      <td>None</td>\n      <td>None</td>\n      <td>None</td>\n    </tr>\n    <tr>\n      <th>8</th>\n      <td>M7A</td>\n      <td>Downtown Toronto</td>\n      <td>Queen's Park</td>\n      <td>None</td>\n      <td>None</td>\n      <td>None</td>\n      <td>None</td>\n      <td>None</td>\n      <td>None</td>\n      <td>None</td>\n      <td>None</td>\n      <td>None</td>\n      <td>None</td>\n      <td>None</td>\n      <td>None</td>\n      <td>None</td>\n      <td>None</td>\n      <td>None</td>\n      <td>None</td>\n      <td>None</td>\n      <td>None</td>\n      <td>None</td>\n      <td>None</td>\n      <td>None</td>\n      <td>None</td>\n      <td>None</td>\n      <td>None</td>\n      <td>None</td>\n      <td>None</td>\n      <td>None</td>\n      <td>None</td>\n    </tr>\n  </tbody>\n</table>\n</div>",
                        "text/plain": "   Postcode            Borough      Neighbourhood   Canadian postal codes  \\\n0  Postcode            Borough      Neighbourhood   Canadian postal codes   \n0                         None               None                    None   \n1       M1A       Not assigned       Not assigned                    None   \n2       M2A       Not assigned       Not assigned                    None   \n3       M3A         North York          Parkwoods                    None   \n4       M4A         North York   Victoria Village                    None   \n5       M5A   Downtown Toronto       Harbourfront                    None   \n6       M6A         North York   Lawrence Heights                    None   \n7       M6A         North York     Lawrence Manor                    None   \n8       M7A   Downtown Toronto       Queen's Park                    None   \n\n    NaN   NaN   NaN   NaN   NaN   NaN   NaN   NaN   NaN   NaN   NaN   NaN  \\\n0   NaN   NaN   NaN   NaN   NaN   NaN   NaN   NaN   NaN   NaN   NaN   NaN   \n0  None  None  None  None  None  None  None  None  None  None  None  None   \n1  None  None  None  None  None  None  None  None  None  None  None  None   \n2  None  None  None  None  None  None  None  None  None  None  None  None   \n3  None  None  None  None  None  None  None  None  None  None  None  None   \n4  None  None  None  None  None  None  None  None  None  None  None  None   \n5  None  None  None  None  None  None  None  None  None  None  None  None   \n6  None  None  None  None  None  None  None  None  None  None  None  None   \n7  None  None  None  None  None  None  None  None  None  None  None  None   \n8  None  None  None  None  None  None  None  None  None  None  None  None   \n\n    NaN   NaN   NaN   NaN   NaN   NaN   NaN   NaN   NaN   NaN   NaN   NaN  \\\n0   NaN   NaN   NaN   NaN   NaN   NaN   NaN   NaN   NaN   NaN   NaN   NaN   \n0  None  None  None  None  None  None  None  None  None  None  None  None   \n1  None  None  None  None  None  None  None  None  None  None  None  None   \n2  None  None  None  None  None  None  None  None  None  None  None  None   \n3  None  None  None  None  None  None  None  None  None  None  None  None   \n4  None  None  None  None  None  None  None  None  None  None  None  None   \n5  None  None  None  None  None  None  None  None  None  None  None  None   \n6  None  None  None  None  None  None  None  None  None  None  None  None   \n7  None  None  None  None  None  None  None  None  None  None  None  None   \n8  None  None  None  None  None  None  None  None  None  None  None  None   \n\n    NaN   NaN   NaN  \n0   NaN   NaN   NaN  \n0  None  None  None  \n1  None  None  None  \n2  None  None  None  \n3  None  None  None  \n4  None  None  None  \n5  None  None  None  \n6  None  None  None  \n7  None  None  None  \n8  None  None  None  "
                    },
                    "execution_count": 307,
                    "metadata": {},
                    "output_type": "execute_result"
                }
            ],
            "source": "df5 = df4.rename(columns = df4.iloc[0])\ndf5.head(10)"
        },
        {
            "cell_type": "markdown",
            "metadata": {},
            "source": "<h4 style=\"color: red;\">Delete the first row</h4>"
        },
        {
            "cell_type": "code",
            "execution_count": 308,
            "metadata": {},
            "outputs": [
                {
                    "data": {
                        "text/html": "<div>\n<style scoped>\n    .dataframe tbody tr th:only-of-type {\n        vertical-align: middle;\n    }\n\n    .dataframe tbody tr th {\n        vertical-align: top;\n    }\n\n    .dataframe thead th {\n        text-align: right;\n    }\n</style>\n<table border=\"1\" class=\"dataframe\">\n  <thead>\n    <tr style=\"text-align: right;\">\n      <th></th>\n      <th>Postcode</th>\n      <th>Borough</th>\n      <th>Neighbourhood</th>\n      <th>Canadian postal codes</th>\n      <th>nan</th>\n      <th>nan</th>\n      <th>nan</th>\n      <th>nan</th>\n      <th>nan</th>\n      <th>nan</th>\n      <th>nan</th>\n      <th>nan</th>\n      <th>nan</th>\n      <th>nan</th>\n      <th>nan</th>\n      <th>nan</th>\n      <th>nan</th>\n      <th>nan</th>\n      <th>nan</th>\n      <th>nan</th>\n      <th>nan</th>\n      <th>nan</th>\n      <th>nan</th>\n      <th>nan</th>\n      <th>nan</th>\n      <th>nan</th>\n      <th>nan</th>\n      <th>nan</th>\n      <th>nan</th>\n      <th>nan</th>\n      <th>nan</th>\n    </tr>\n  </thead>\n  <tbody>\n    <tr>\n      <th>1</th>\n      <td>M1A</td>\n      <td>Not assigned</td>\n      <td>Not assigned</td>\n      <td>None</td>\n      <td>None</td>\n      <td>None</td>\n      <td>None</td>\n      <td>None</td>\n      <td>None</td>\n      <td>None</td>\n      <td>None</td>\n      <td>None</td>\n      <td>None</td>\n      <td>None</td>\n      <td>None</td>\n      <td>None</td>\n      <td>None</td>\n      <td>None</td>\n      <td>None</td>\n      <td>None</td>\n      <td>None</td>\n      <td>None</td>\n      <td>None</td>\n      <td>None</td>\n      <td>None</td>\n      <td>None</td>\n      <td>None</td>\n      <td>None</td>\n      <td>None</td>\n      <td>None</td>\n      <td>None</td>\n    </tr>\n    <tr>\n      <th>2</th>\n      <td>M2A</td>\n      <td>Not assigned</td>\n      <td>Not assigned</td>\n      <td>None</td>\n      <td>None</td>\n      <td>None</td>\n      <td>None</td>\n      <td>None</td>\n      <td>None</td>\n      <td>None</td>\n      <td>None</td>\n      <td>None</td>\n      <td>None</td>\n      <td>None</td>\n      <td>None</td>\n      <td>None</td>\n      <td>None</td>\n      <td>None</td>\n      <td>None</td>\n      <td>None</td>\n      <td>None</td>\n      <td>None</td>\n      <td>None</td>\n      <td>None</td>\n      <td>None</td>\n      <td>None</td>\n      <td>None</td>\n      <td>None</td>\n      <td>None</td>\n      <td>None</td>\n      <td>None</td>\n    </tr>\n    <tr>\n      <th>3</th>\n      <td>M3A</td>\n      <td>North York</td>\n      <td>Parkwoods</td>\n      <td>None</td>\n      <td>None</td>\n      <td>None</td>\n      <td>None</td>\n      <td>None</td>\n      <td>None</td>\n      <td>None</td>\n      <td>None</td>\n      <td>None</td>\n      <td>None</td>\n      <td>None</td>\n      <td>None</td>\n      <td>None</td>\n      <td>None</td>\n      <td>None</td>\n      <td>None</td>\n      <td>None</td>\n      <td>None</td>\n      <td>None</td>\n      <td>None</td>\n      <td>None</td>\n      <td>None</td>\n      <td>None</td>\n      <td>None</td>\n      <td>None</td>\n      <td>None</td>\n      <td>None</td>\n      <td>None</td>\n    </tr>\n    <tr>\n      <th>4</th>\n      <td>M4A</td>\n      <td>North York</td>\n      <td>Victoria Village</td>\n      <td>None</td>\n      <td>None</td>\n      <td>None</td>\n      <td>None</td>\n      <td>None</td>\n      <td>None</td>\n      <td>None</td>\n      <td>None</td>\n      <td>None</td>\n      <td>None</td>\n      <td>None</td>\n      <td>None</td>\n      <td>None</td>\n      <td>None</td>\n      <td>None</td>\n      <td>None</td>\n      <td>None</td>\n      <td>None</td>\n      <td>None</td>\n      <td>None</td>\n      <td>None</td>\n      <td>None</td>\n      <td>None</td>\n      <td>None</td>\n      <td>None</td>\n      <td>None</td>\n      <td>None</td>\n      <td>None</td>\n    </tr>\n    <tr>\n      <th>5</th>\n      <td>M5A</td>\n      <td>Downtown Toronto</td>\n      <td>Harbourfront</td>\n      <td>None</td>\n      <td>None</td>\n      <td>None</td>\n      <td>None</td>\n      <td>None</td>\n      <td>None</td>\n      <td>None</td>\n      <td>None</td>\n      <td>None</td>\n      <td>None</td>\n      <td>None</td>\n      <td>None</td>\n      <td>None</td>\n      <td>None</td>\n      <td>None</td>\n      <td>None</td>\n      <td>None</td>\n      <td>None</td>\n      <td>None</td>\n      <td>None</td>\n      <td>None</td>\n      <td>None</td>\n      <td>None</td>\n      <td>None</td>\n      <td>None</td>\n      <td>None</td>\n      <td>None</td>\n      <td>None</td>\n    </tr>\n    <tr>\n      <th>6</th>\n      <td>M6A</td>\n      <td>North York</td>\n      <td>Lawrence Heights</td>\n      <td>None</td>\n      <td>None</td>\n      <td>None</td>\n      <td>None</td>\n      <td>None</td>\n      <td>None</td>\n      <td>None</td>\n      <td>None</td>\n      <td>None</td>\n      <td>None</td>\n      <td>None</td>\n      <td>None</td>\n      <td>None</td>\n      <td>None</td>\n      <td>None</td>\n      <td>None</td>\n      <td>None</td>\n      <td>None</td>\n      <td>None</td>\n      <td>None</td>\n      <td>None</td>\n      <td>None</td>\n      <td>None</td>\n      <td>None</td>\n      <td>None</td>\n      <td>None</td>\n      <td>None</td>\n      <td>None</td>\n    </tr>\n    <tr>\n      <th>7</th>\n      <td>M6A</td>\n      <td>North York</td>\n      <td>Lawrence Manor</td>\n      <td>None</td>\n      <td>None</td>\n      <td>None</td>\n      <td>None</td>\n      <td>None</td>\n      <td>None</td>\n      <td>None</td>\n      <td>None</td>\n      <td>None</td>\n      <td>None</td>\n      <td>None</td>\n      <td>None</td>\n      <td>None</td>\n      <td>None</td>\n      <td>None</td>\n      <td>None</td>\n      <td>None</td>\n      <td>None</td>\n      <td>None</td>\n      <td>None</td>\n      <td>None</td>\n      <td>None</td>\n      <td>None</td>\n      <td>None</td>\n      <td>None</td>\n      <td>None</td>\n      <td>None</td>\n      <td>None</td>\n    </tr>\n    <tr>\n      <th>8</th>\n      <td>M7A</td>\n      <td>Downtown Toronto</td>\n      <td>Queen's Park</td>\n      <td>None</td>\n      <td>None</td>\n      <td>None</td>\n      <td>None</td>\n      <td>None</td>\n      <td>None</td>\n      <td>None</td>\n      <td>None</td>\n      <td>None</td>\n      <td>None</td>\n      <td>None</td>\n      <td>None</td>\n      <td>None</td>\n      <td>None</td>\n      <td>None</td>\n      <td>None</td>\n      <td>None</td>\n      <td>None</td>\n      <td>None</td>\n      <td>None</td>\n      <td>None</td>\n      <td>None</td>\n      <td>None</td>\n      <td>None</td>\n      <td>None</td>\n      <td>None</td>\n      <td>None</td>\n      <td>None</td>\n    </tr>\n    <tr>\n      <th>9</th>\n      <td>M8A</td>\n      <td>Not assigned</td>\n      <td>Not assigned</td>\n      <td>None</td>\n      <td>None</td>\n      <td>None</td>\n      <td>None</td>\n      <td>None</td>\n      <td>None</td>\n      <td>None</td>\n      <td>None</td>\n      <td>None</td>\n      <td>None</td>\n      <td>None</td>\n      <td>None</td>\n      <td>None</td>\n      <td>None</td>\n      <td>None</td>\n      <td>None</td>\n      <td>None</td>\n      <td>None</td>\n      <td>None</td>\n      <td>None</td>\n      <td>None</td>\n      <td>None</td>\n      <td>None</td>\n      <td>None</td>\n      <td>None</td>\n      <td>None</td>\n      <td>None</td>\n      <td>None</td>\n    </tr>\n    <tr>\n      <th>10</th>\n      <td>M9A</td>\n      <td>Queen's Park</td>\n      <td>Not assigned</td>\n      <td>None</td>\n      <td>None</td>\n      <td>None</td>\n      <td>None</td>\n      <td>None</td>\n      <td>None</td>\n      <td>None</td>\n      <td>None</td>\n      <td>None</td>\n      <td>None</td>\n      <td>None</td>\n      <td>None</td>\n      <td>None</td>\n      <td>None</td>\n      <td>None</td>\n      <td>None</td>\n      <td>None</td>\n      <td>None</td>\n      <td>None</td>\n      <td>None</td>\n      <td>None</td>\n      <td>None</td>\n      <td>None</td>\n      <td>None</td>\n      <td>None</td>\n      <td>None</td>\n      <td>None</td>\n      <td>None</td>\n    </tr>\n  </tbody>\n</table>\n</div>",
                        "text/plain": "   Postcode            Borough      Neighbourhood  Canadian postal codes  \\\n1       M1A       Not assigned       Not assigned                   None   \n2       M2A       Not assigned       Not assigned                   None   \n3       M3A         North York          Parkwoods                   None   \n4       M4A         North York   Victoria Village                   None   \n5       M5A   Downtown Toronto       Harbourfront                   None   \n6       M6A         North York   Lawrence Heights                   None   \n7       M6A         North York     Lawrence Manor                   None   \n8       M7A   Downtown Toronto       Queen's Park                   None   \n9       M8A       Not assigned       Not assigned                   None   \n10      M9A       Queen's Park       Not assigned                   None   \n\n     NaN   NaN   NaN   NaN   NaN   NaN   NaN   NaN   NaN   NaN   NaN   NaN  \\\n1   None  None  None  None  None  None  None  None  None  None  None  None   \n2   None  None  None  None  None  None  None  None  None  None  None  None   \n3   None  None  None  None  None  None  None  None  None  None  None  None   \n4   None  None  None  None  None  None  None  None  None  None  None  None   \n5   None  None  None  None  None  None  None  None  None  None  None  None   \n6   None  None  None  None  None  None  None  None  None  None  None  None   \n7   None  None  None  None  None  None  None  None  None  None  None  None   \n8   None  None  None  None  None  None  None  None  None  None  None  None   \n9   None  None  None  None  None  None  None  None  None  None  None  None   \n10  None  None  None  None  None  None  None  None  None  None  None  None   \n\n     NaN   NaN   NaN   NaN   NaN   NaN   NaN   NaN   NaN   NaN   NaN   NaN  \\\n1   None  None  None  None  None  None  None  None  None  None  None  None   \n2   None  None  None  None  None  None  None  None  None  None  None  None   \n3   None  None  None  None  None  None  None  None  None  None  None  None   \n4   None  None  None  None  None  None  None  None  None  None  None  None   \n5   None  None  None  None  None  None  None  None  None  None  None  None   \n6   None  None  None  None  None  None  None  None  None  None  None  None   \n7   None  None  None  None  None  None  None  None  None  None  None  None   \n8   None  None  None  None  None  None  None  None  None  None  None  None   \n9   None  None  None  None  None  None  None  None  None  None  None  None   \n10  None  None  None  None  None  None  None  None  None  None  None  None   \n\n     NaN   NaN   NaN  \n1   None  None  None  \n2   None  None  None  \n3   None  None  None  \n4   None  None  None  \n5   None  None  None  \n6   None  None  None  \n7   None  None  None  \n8   None  None  None  \n9   None  None  None  \n10  None  None  None  "
                    },
                    "execution_count": 308,
                    "metadata": {},
                    "output_type": "execute_result"
                }
            ],
            "source": "df6 = df5.drop(df5.index[0])\ndf6.head(10)"
        },
        {
            "cell_type": "markdown",
            "metadata": {},
            "source": "<h4 style=\"color: red;\">Drop surplus columns</h4>"
        },
        {
            "cell_type": "code",
            "execution_count": 309,
            "metadata": {},
            "outputs": [
                {
                    "data": {
                        "text/html": "<div>\n<style scoped>\n    .dataframe tbody tr th:only-of-type {\n        vertical-align: middle;\n    }\n\n    .dataframe tbody tr th {\n        vertical-align: top;\n    }\n\n    .dataframe thead th {\n        text-align: right;\n    }\n</style>\n<table border=\"1\" class=\"dataframe\">\n  <thead>\n    <tr style=\"text-align: right;\">\n      <th></th>\n      <th>Postcode</th>\n      <th>Borough</th>\n      <th>Neighbourhood</th>\n    </tr>\n  </thead>\n  <tbody>\n    <tr>\n      <th>1</th>\n      <td>M1A</td>\n      <td>Not assigned</td>\n      <td>Not assigned</td>\n    </tr>\n    <tr>\n      <th>2</th>\n      <td>M2A</td>\n      <td>Not assigned</td>\n      <td>Not assigned</td>\n    </tr>\n    <tr>\n      <th>3</th>\n      <td>M3A</td>\n      <td>North York</td>\n      <td>Parkwoods</td>\n    </tr>\n    <tr>\n      <th>4</th>\n      <td>M4A</td>\n      <td>North York</td>\n      <td>Victoria Village</td>\n    </tr>\n    <tr>\n      <th>5</th>\n      <td>M5A</td>\n      <td>Downtown Toronto</td>\n      <td>Harbourfront</td>\n    </tr>\n    <tr>\n      <th>6</th>\n      <td>M6A</td>\n      <td>North York</td>\n      <td>Lawrence Heights</td>\n    </tr>\n    <tr>\n      <th>7</th>\n      <td>M6A</td>\n      <td>North York</td>\n      <td>Lawrence Manor</td>\n    </tr>\n    <tr>\n      <th>8</th>\n      <td>M7A</td>\n      <td>Downtown Toronto</td>\n      <td>Queen's Park</td>\n    </tr>\n    <tr>\n      <th>9</th>\n      <td>M8A</td>\n      <td>Not assigned</td>\n      <td>Not assigned</td>\n    </tr>\n    <tr>\n      <th>10</th>\n      <td>M9A</td>\n      <td>Queen's Park</td>\n      <td>Not assigned</td>\n    </tr>\n  </tbody>\n</table>\n</div>",
                        "text/plain": "   Postcode            Borough      Neighbourhood\n1       M1A       Not assigned       Not assigned\n2       M2A       Not assigned       Not assigned\n3       M3A         North York          Parkwoods\n4       M4A         North York   Victoria Village\n5       M5A   Downtown Toronto       Harbourfront\n6       M6A         North York   Lawrence Heights\n7       M6A         North York     Lawrence Manor\n8       M7A   Downtown Toronto       Queen's Park\n9       M8A       Not assigned       Not assigned\n10      M9A       Queen's Park       Not assigned"
                    },
                    "execution_count": 309,
                    "metadata": {},
                    "output_type": "execute_result"
                }
            ],
            "source": "df6.drop(df6.columns[3:30], axis = 1, inplace=True)\ndf6.head(10)"
        },
        {
            "cell_type": "markdown",
            "metadata": {},
            "source": "<h4 style=\"color: red;\">Delete rows where Borough = 'Not assigned'</h4>"
        },
        {
            "cell_type": "code",
            "execution_count": 310,
            "metadata": {},
            "outputs": [
                {
                    "data": {
                        "text/html": "<div>\n<style scoped>\n    .dataframe tbody tr th:only-of-type {\n        vertical-align: middle;\n    }\n\n    .dataframe tbody tr th {\n        vertical-align: top;\n    }\n\n    .dataframe thead th {\n        text-align: right;\n    }\n</style>\n<table border=\"1\" class=\"dataframe\">\n  <thead>\n    <tr style=\"text-align: right;\">\n      <th></th>\n      <th>Postcode</th>\n      <th>Borough</th>\n      <th>Neighbourhood</th>\n    </tr>\n  </thead>\n  <tbody>\n    <tr>\n      <th>3</th>\n      <td>M3A</td>\n      <td>North York</td>\n      <td>Parkwoods</td>\n    </tr>\n    <tr>\n      <th>4</th>\n      <td>M4A</td>\n      <td>North York</td>\n      <td>Victoria Village</td>\n    </tr>\n    <tr>\n      <th>5</th>\n      <td>M5A</td>\n      <td>Downtown Toronto</td>\n      <td>Harbourfront</td>\n    </tr>\n    <tr>\n      <th>6</th>\n      <td>M6A</td>\n      <td>North York</td>\n      <td>Lawrence Heights</td>\n    </tr>\n    <tr>\n      <th>7</th>\n      <td>M6A</td>\n      <td>North York</td>\n      <td>Lawrence Manor</td>\n    </tr>\n    <tr>\n      <th>8</th>\n      <td>M7A</td>\n      <td>Downtown Toronto</td>\n      <td>Queen's Park</td>\n    </tr>\n    <tr>\n      <th>10</th>\n      <td>M9A</td>\n      <td>Queen's Park</td>\n      <td>Not assigned</td>\n    </tr>\n    <tr>\n      <th>11</th>\n      <td>M1B</td>\n      <td>Scarborough</td>\n      <td>Rouge</td>\n    </tr>\n    <tr>\n      <th>12</th>\n      <td>M1B</td>\n      <td>Scarborough</td>\n      <td>Malvern</td>\n    </tr>\n    <tr>\n      <th>14</th>\n      <td>M3B</td>\n      <td>North York</td>\n      <td>Don Mills North</td>\n    </tr>\n  </tbody>\n</table>\n</div>",
                        "text/plain": "   Postcode            Borough      Neighbourhood\n3       M3A         North York          Parkwoods\n4       M4A         North York   Victoria Village\n5       M5A   Downtown Toronto       Harbourfront\n6       M6A         North York   Lawrence Heights\n7       M6A         North York     Lawrence Manor\n8       M7A   Downtown Toronto       Queen's Park\n10      M9A       Queen's Park       Not assigned\n11      M1B        Scarborough              Rouge\n12      M1B        Scarborough            Malvern\n14      M3B         North York    Don Mills North"
                    },
                    "execution_count": 310,
                    "metadata": {},
                    "output_type": "execute_result"
                }
            ],
            "source": "indexNames = df6[df6[' Borough'] == \" Not assigned\"].index\ndf6.drop(indexNames , inplace=True,)\ndf6.head(10)"
        },
        {
            "cell_type": "markdown",
            "metadata": {},
            "source": "<h4 style=\"color: red;\">Rename Neighbourhood columns for US spelling and leading space</h4>"
        },
        {
            "cell_type": "code",
            "execution_count": 314,
            "metadata": {
                "scrolled": true
            },
            "outputs": [
                {
                    "data": {
                        "text/html": "<div>\n<style scoped>\n    .dataframe tbody tr th:only-of-type {\n        vertical-align: middle;\n    }\n\n    .dataframe tbody tr th {\n        vertical-align: top;\n    }\n\n    .dataframe thead th {\n        text-align: right;\n    }\n</style>\n<table border=\"1\" class=\"dataframe\">\n  <thead>\n    <tr style=\"text-align: right;\">\n      <th></th>\n      <th>Postcode</th>\n      <th>Borough</th>\n      <th>Neighborhood</th>\n    </tr>\n  </thead>\n  <tbody>\n    <tr>\n      <th>3</th>\n      <td>M3A</td>\n      <td>North York</td>\n      <td>Parkwoods</td>\n    </tr>\n    <tr>\n      <th>4</th>\n      <td>M4A</td>\n      <td>North York</td>\n      <td>Victoria Village</td>\n    </tr>\n    <tr>\n      <th>5</th>\n      <td>M5A</td>\n      <td>Downtown Toronto</td>\n      <td>Harbourfront</td>\n    </tr>\n    <tr>\n      <th>6</th>\n      <td>M6A</td>\n      <td>North York</td>\n      <td>Lawrence Heights</td>\n    </tr>\n    <tr>\n      <th>7</th>\n      <td>M6A</td>\n      <td>North York</td>\n      <td>Lawrence Manor</td>\n    </tr>\n    <tr>\n      <th>8</th>\n      <td>M7A</td>\n      <td>Downtown Toronto</td>\n      <td>Queen's Park</td>\n    </tr>\n    <tr>\n      <th>10</th>\n      <td>M9A</td>\n      <td>Queen's Park</td>\n      <td>Not assigned</td>\n    </tr>\n    <tr>\n      <th>11</th>\n      <td>M1B</td>\n      <td>Scarborough</td>\n      <td>Rouge</td>\n    </tr>\n    <tr>\n      <th>12</th>\n      <td>M1B</td>\n      <td>Scarborough</td>\n      <td>Malvern</td>\n    </tr>\n    <tr>\n      <th>14</th>\n      <td>M3B</td>\n      <td>North York</td>\n      <td>Don Mills North</td>\n    </tr>\n  </tbody>\n</table>\n</div>",
                        "text/plain": "   Postcode            Borough       Neighborhood\n3       M3A         North York          Parkwoods\n4       M4A         North York   Victoria Village\n5       M5A   Downtown Toronto       Harbourfront\n6       M6A         North York   Lawrence Heights\n7       M6A         North York     Lawrence Manor\n8       M7A   Downtown Toronto       Queen's Park\n10      M9A       Queen's Park       Not assigned\n11      M1B        Scarborough              Rouge\n12      M1B        Scarborough            Malvern\n14      M3B         North York    Don Mills North"
                    },
                    "execution_count": 314,
                    "metadata": {},
                    "output_type": "execute_result"
                }
            ],
            "source": "df6.rename(columns={' Neighbourhood': 'Neighborhood'}, inplace=True)\ndf6.head(10)"
        },
        {
            "cell_type": "markdown",
            "metadata": {},
            "source": "<h4 style=\"color: red;\">Where Neighbourhood is Not assigned, use the Borough assignment value</h4>"
        },
        {
            "cell_type": "code",
            "execution_count": 317,
            "metadata": {},
            "outputs": [
                {
                    "name": "stderr",
                    "output_type": "stream",
                    "text": "/opt/conda/envs/Python36/lib/python3.6/site-packages/ipykernel/__main__.py:7: SettingWithCopyWarning: \nA value is trying to be set on a copy of a slice from a DataFrame.\nTry using .loc[row_indexer,col_indexer] = value instead\n\nSee the caveats in the documentation: http://pandas.pydata.org/pandas-docs/stable/indexing.html#indexing-view-versus-copy\n"
                },
                {
                    "data": {
                        "text/html": "<div>\n<style scoped>\n    .dataframe tbody tr th:only-of-type {\n        vertical-align: middle;\n    }\n\n    .dataframe tbody tr th {\n        vertical-align: top;\n    }\n\n    .dataframe thead th {\n        text-align: right;\n    }\n</style>\n<table border=\"1\" class=\"dataframe\">\n  <thead>\n    <tr style=\"text-align: right;\">\n      <th></th>\n      <th>Postcode</th>\n      <th>Borough</th>\n      <th>Neighborhood</th>\n    </tr>\n  </thead>\n  <tbody>\n    <tr>\n      <th>3</th>\n      <td>M3A</td>\n      <td>North York</td>\n      <td>Parkwoods</td>\n    </tr>\n    <tr>\n      <th>4</th>\n      <td>M4A</td>\n      <td>North York</td>\n      <td>Victoria Village</td>\n    </tr>\n    <tr>\n      <th>5</th>\n      <td>M5A</td>\n      <td>Downtown Toronto</td>\n      <td>Harbourfront</td>\n    </tr>\n    <tr>\n      <th>6</th>\n      <td>M6A</td>\n      <td>North York</td>\n      <td>Lawrence Heights</td>\n    </tr>\n    <tr>\n      <th>7</th>\n      <td>M6A</td>\n      <td>North York</td>\n      <td>Lawrence Manor</td>\n    </tr>\n    <tr>\n      <th>8</th>\n      <td>M7A</td>\n      <td>Downtown Toronto</td>\n      <td>Queen's Park</td>\n    </tr>\n    <tr>\n      <th>10</th>\n      <td>M9A</td>\n      <td>Queen's Park</td>\n      <td>Queen's Park</td>\n    </tr>\n    <tr>\n      <th>11</th>\n      <td>M1B</td>\n      <td>Scarborough</td>\n      <td>Rouge</td>\n    </tr>\n    <tr>\n      <th>12</th>\n      <td>M1B</td>\n      <td>Scarborough</td>\n      <td>Malvern</td>\n    </tr>\n    <tr>\n      <th>14</th>\n      <td>M3B</td>\n      <td>North York</td>\n      <td>Don Mills North</td>\n    </tr>\n  </tbody>\n</table>\n</div>",
                        "text/plain": "   Postcode            Borough       Neighborhood\n3       M3A         North York          Parkwoods\n4       M4A         North York   Victoria Village\n5       M5A   Downtown Toronto       Harbourfront\n6       M6A         North York   Lawrence Heights\n7       M6A         North York     Lawrence Manor\n8       M7A   Downtown Toronto       Queen's Park\n10      M9A       Queen's Park       Queen's Park\n11      M1B        Scarborough              Rouge\n12      M1B        Scarborough            Malvern\n14      M3B         North York    Don Mills North"
                    },
                    "execution_count": 317,
                    "metadata": {},
                    "output_type": "execute_result"
                }
            ],
            "source": "def assign_neighborhood(row):\n    if row['Neighborhood'] == ' Not assigned':\n        return row['Borough']\n    else:\n        return row['Neighborhood']\n\ndf6['Neighborhood'] = df6.apply(assign_neighborhood, axis=1)\ndf6.head(10)"
        },
        {
            "cell_type": "markdown",
            "metadata": {},
            "source": "<h4 style=\"color: red;\">Final cleanup. 5 rows of trash that slipped through</h4>"
        },
        {
            "cell_type": "code",
            "execution_count": 318,
            "metadata": {},
            "outputs": [
                {
                    "data": {
                        "text/plain": "(210, 3)"
                    },
                    "execution_count": 318,
                    "metadata": {},
                    "output_type": "execute_result"
                }
            ],
            "source": "df7 = df6.drop([df6.index[210] , df6.index[211] , df6.index[212] , df6.index[213] , df6.index[214]])\ndf7.shape"
        },
        {
            "cell_type": "code",
            "execution_count": 319,
            "metadata": {
                "scrolled": false
            },
            "outputs": [],
            "source": "dfToronto = df7.groupby(['Postcode','Borough'], as_index=False).agg(lambda x: ','.join(x))"
        },
        {
            "cell_type": "markdown",
            "metadata": {},
            "source": "<h4 style=\"color: red;\">Show the final shape of the dataframe</h4>"
        },
        {
            "cell_type": "code",
            "execution_count": 320,
            "metadata": {},
            "outputs": [
                {
                    "data": {
                        "text/plain": "(103, 3)"
                    },
                    "execution_count": 320,
                    "metadata": {},
                    "output_type": "execute_result"
                }
            ],
            "source": "dfToronto.shape"
        },
        {
            "cell_type": "markdown",
            "metadata": {},
            "source": "<h2>What follows is Part 2 of 3 parts:</h2>"
        },
        {
            "cell_type": "markdown",
            "metadata": {},
            "source": "<h4 style=\"color: red;\">Create a DataFrame with the coordinate data</h4>"
        },
        {
            "cell_type": "code",
            "execution_count": 321,
            "metadata": {},
            "outputs": [
                {
                    "data": {
                        "text/plain": "(103, 3)"
                    },
                    "execution_count": 321,
                    "metadata": {},
                    "output_type": "execute_result"
                }
            ],
            "source": "dfCoordinates = pd.read_csv(\"http://cocl.us/Geospatial_data\")\ndfCoordinates.shape"
        },
        {
            "cell_type": "markdown",
            "metadata": {},
            "source": "<h4 style=\"color: red;\">Append Latitude and Longitude columns to the DataFrame</h4>"
        },
        {
            "cell_type": "code",
            "execution_count": 322,
            "metadata": {},
            "outputs": [
                {
                    "data": {
                        "text/html": "<div>\n<style scoped>\n    .dataframe tbody tr th:only-of-type {\n        vertical-align: middle;\n    }\n\n    .dataframe tbody tr th {\n        vertical-align: top;\n    }\n\n    .dataframe thead th {\n        text-align: right;\n    }\n</style>\n<table border=\"1\" class=\"dataframe\">\n  <thead>\n    <tr style=\"text-align: right;\">\n      <th></th>\n      <th>Postcode</th>\n      <th>Borough</th>\n      <th>Neighborhood</th>\n      <th>Latitude</th>\n      <th>Longitude</th>\n    </tr>\n  </thead>\n  <tbody>\n    <tr>\n      <th>0</th>\n      <td>M1B</td>\n      <td>Scarborough</td>\n      <td>Rouge, Malvern</td>\n      <td>0.0</td>\n      <td>0.0</td>\n    </tr>\n    <tr>\n      <th>1</th>\n      <td>M1C</td>\n      <td>Scarborough</td>\n      <td>Highland Creek, Rouge Hill, Port Union</td>\n      <td>0.0</td>\n      <td>0.0</td>\n    </tr>\n    <tr>\n      <th>2</th>\n      <td>M1E</td>\n      <td>Scarborough</td>\n      <td>Guildwood, Morningside, West Hill</td>\n      <td>0.0</td>\n      <td>0.0</td>\n    </tr>\n    <tr>\n      <th>3</th>\n      <td>M1G</td>\n      <td>Scarborough</td>\n      <td>Woburn</td>\n      <td>0.0</td>\n      <td>0.0</td>\n    </tr>\n    <tr>\n      <th>4</th>\n      <td>M1H</td>\n      <td>Scarborough</td>\n      <td>Cedarbrae</td>\n      <td>0.0</td>\n      <td>0.0</td>\n    </tr>\n  </tbody>\n</table>\n</div>",
                        "text/plain": "  Postcode       Borough                             Neighborhood  Latitude  \\\n0      M1B   Scarborough                           Rouge, Malvern       0.0   \n1      M1C   Scarborough   Highland Creek, Rouge Hill, Port Union       0.0   \n2      M1E   Scarborough        Guildwood, Morningside, West Hill       0.0   \n3      M1G   Scarborough                                   Woburn       0.0   \n4      M1H   Scarborough                                Cedarbrae       0.0   \n\n   Longitude  \n0        0.0  \n1        0.0  \n2        0.0  \n3        0.0  \n4        0.0  "
                    },
                    "execution_count": 322,
                    "metadata": {},
                    "output_type": "execute_result"
                }
            ],
            "source": "dfToronto = pd.concat([dfToronto, pd.DataFrame([[0.0, 0.0]], index=dfToronto.index, columns=['Latitude', 'Longitude'])], axis=1)\ndfToronto.head()"
        },
        {
            "cell_type": "markdown",
            "metadata": {},
            "source": "<h4 style=\"color: red;\">Load the Latitude and Longitude columns with values from the coordinates DataFrame that match on Postcode</h4>"
        },
        {
            "cell_type": "code",
            "execution_count": 323,
            "metadata": {},
            "outputs": [
                {
                    "data": {
                        "text/html": "<div>\n<style scoped>\n    .dataframe tbody tr th:only-of-type {\n        vertical-align: middle;\n    }\n\n    .dataframe tbody tr th {\n        vertical-align: top;\n    }\n\n    .dataframe thead th {\n        text-align: right;\n    }\n</style>\n<table border=\"1\" class=\"dataframe\">\n  <thead>\n    <tr style=\"text-align: right;\">\n      <th></th>\n      <th>Postcode</th>\n      <th>Borough</th>\n      <th>Neighborhood</th>\n      <th>Latitude</th>\n      <th>Longitude</th>\n    </tr>\n  </thead>\n  <tbody>\n    <tr>\n      <th>0</th>\n      <td>M1B</td>\n      <td>Scarborough</td>\n      <td>Rouge, Malvern</td>\n      <td>43.806686</td>\n      <td>-79.194353</td>\n    </tr>\n    <tr>\n      <th>1</th>\n      <td>M1C</td>\n      <td>Scarborough</td>\n      <td>Highland Creek, Rouge Hill, Port Union</td>\n      <td>43.784535</td>\n      <td>-79.160497</td>\n    </tr>\n    <tr>\n      <th>2</th>\n      <td>M1E</td>\n      <td>Scarborough</td>\n      <td>Guildwood, Morningside, West Hill</td>\n      <td>43.763573</td>\n      <td>-79.188711</td>\n    </tr>\n    <tr>\n      <th>3</th>\n      <td>M1G</td>\n      <td>Scarborough</td>\n      <td>Woburn</td>\n      <td>43.770992</td>\n      <td>-79.216917</td>\n    </tr>\n    <tr>\n      <th>4</th>\n      <td>M1H</td>\n      <td>Scarborough</td>\n      <td>Cedarbrae</td>\n      <td>43.773136</td>\n      <td>-79.239476</td>\n    </tr>\n    <tr>\n      <th>5</th>\n      <td>M1J</td>\n      <td>Scarborough</td>\n      <td>Scarborough Village</td>\n      <td>43.744734</td>\n      <td>-79.239476</td>\n    </tr>\n    <tr>\n      <th>6</th>\n      <td>M1K</td>\n      <td>Scarborough</td>\n      <td>East Birchmount Park, Ionview, Kennedy Park</td>\n      <td>43.727929</td>\n      <td>-79.262029</td>\n    </tr>\n    <tr>\n      <th>7</th>\n      <td>M1L</td>\n      <td>Scarborough</td>\n      <td>Clairlea, Golden Mile, Oakridge</td>\n      <td>43.711112</td>\n      <td>-79.284577</td>\n    </tr>\n    <tr>\n      <th>8</th>\n      <td>M1M</td>\n      <td>Scarborough</td>\n      <td>Cliffcrest, Cliffside, Scarborough Village West</td>\n      <td>43.716316</td>\n      <td>-79.239476</td>\n    </tr>\n    <tr>\n      <th>9</th>\n      <td>M1N</td>\n      <td>Scarborough</td>\n      <td>Birch Cliff, Cliffside West</td>\n      <td>43.692657</td>\n      <td>-79.264848</td>\n    </tr>\n  </tbody>\n</table>\n</div>",
                        "text/plain": "  Postcode       Borough                                      Neighborhood  \\\n0      M1B   Scarborough                                    Rouge, Malvern   \n1      M1C   Scarborough            Highland Creek, Rouge Hill, Port Union   \n2      M1E   Scarborough                 Guildwood, Morningside, West Hill   \n3      M1G   Scarborough                                            Woburn   \n4      M1H   Scarborough                                         Cedarbrae   \n5      M1J   Scarborough                               Scarborough Village   \n6      M1K   Scarborough       East Birchmount Park, Ionview, Kennedy Park   \n7      M1L   Scarborough                   Clairlea, Golden Mile, Oakridge   \n8      M1M   Scarborough   Cliffcrest, Cliffside, Scarborough Village West   \n9      M1N   Scarborough                       Birch Cliff, Cliffside West   \n\n    Latitude  Longitude  \n0  43.806686 -79.194353  \n1  43.784535 -79.160497  \n2  43.763573 -79.188711  \n3  43.770992 -79.216917  \n4  43.773136 -79.239476  \n5  43.744734 -79.239476  \n6  43.727929 -79.262029  \n7  43.711112 -79.284577  \n8  43.716316 -79.239476  \n9  43.692657 -79.264848  "
                    },
                    "execution_count": 323,
                    "metadata": {},
                    "output_type": "execute_result"
                }
            ],
            "source": "i = 0\nj = 0\nfor i in dfToronto.index:\n    for j in dfCoordinates.index:\n        if dfToronto.iloc[i, 0] == dfCoordinates.iloc[j, 0]:\n            dfToronto.iloc[i, 3] = dfCoordinates.iloc[j, 1]\n            dfToronto.iloc[i, 4] = dfCoordinates.iloc[j, 2]\n            \ndfToronto.head(10)"
        },
        {
            "cell_type": "markdown",
            "metadata": {},
            "source": "<h2>What follows is Part 3 of 3 parts:</h2>"
        },
        {
            "cell_type": "markdown",
            "metadata": {},
            "source": "<h4 style=\"color: red;\">Install more libraries</h4>"
        },
        {
            "cell_type": "code",
            "execution_count": 324,
            "metadata": {},
            "outputs": [
                {
                    "name": "stdout",
                    "output_type": "stream",
                    "text": "Solving environment: done\n\n## Package Plan ##\n\n  environment location: /opt/conda/envs/Python36\n\n  added / updated specs: \n    - folium=0.5.0\n\n\nThe following packages will be downloaded:\n\n    package                    |            build\n    ---------------------------|-----------------\n    openssl-1.1.1d             |       h516909a_0         2.1 MB  conda-forge\n    branca-0.3.1               |             py_0          25 KB  conda-forge\n    certifi-2019.11.28         |           py36_0         149 KB  conda-forge\n    folium-0.5.0               |             py_0          45 KB  conda-forge\n    altair-4.0.1               |             py_0         575 KB  conda-forge\n    ca-certificates-2019.11.28 |       hecc5488_0         145 KB  conda-forge\n    vincent-0.4.4              |             py_1          28 KB  conda-forge\n    ------------------------------------------------------------\n                                           Total:         3.0 MB\n\nThe following NEW packages will be INSTALLED:\n\n    altair:          4.0.1-py_0        conda-forge\n    branca:          0.3.1-py_0        conda-forge\n    folium:          0.5.0-py_0        conda-forge\n    vincent:         0.4.4-py_1        conda-forge\n\nThe following packages will be UPDATED:\n\n    ca-certificates: 2019.11.27-0                  --> 2019.11.28-hecc5488_0 conda-forge\n    certifi:         2019.11.28-py36_0             --> 2019.11.28-py36_0     conda-forge\n\nThe following packages will be DOWNGRADED:\n\n    openssl:         1.1.1d-h7b6447c_3             --> 1.1.1d-h516909a_0     conda-forge\n\n\nDownloading and Extracting Packages\nopenssl-1.1.1d       | 2.1 MB    | ##################################### | 100% \nbranca-0.3.1         | 25 KB     | ##################################### | 100% \ncertifi-2019.11.28   | 149 KB    | ##################################### | 100% \nfolium-0.5.0         | 45 KB     | ##################################### | 100% \naltair-4.0.1         | 575 KB    | ##################################### | 100% \nca-certificates-2019 | 145 KB    | ##################################### | 100% \nvincent-0.4.4        | 28 KB     | ##################################### | 100% \nPreparing transaction: done\nVerifying transaction: done\nExecuting transaction: done\nFolium installed\nLibraries imported.\n"
                }
            ],
            "source": "import requests # library to handle requests\nimport random # library for random number generation\n\n# libraries for displaying images\nfrom IPython.display import Image \nfrom IPython.core.display import HTML \n    \n# tranforming json file into a pandas dataframe library\nfrom pandas.io.json import json_normalize\n\n!conda install -c conda-forge folium=0.5.0 --yes\nimport folium # plotting library\n\nprint('Folium installed')\nprint('Libraries imported.')"
        },
        {
            "cell_type": "markdown",
            "metadata": {},
            "source": "<h4 style=\"color: red;\">FourSquare creds</h4>"
        },
        {
            "cell_type": "code",
            "execution_count": 325,
            "metadata": {},
            "outputs": [
                {
                    "name": "stdout",
                    "output_type": "stream",
                    "text": "Your credentails:\nCLIENT_ID: G3DDAPR0UTRHTRNCHGGIJSBHLA0FRGQ1UCPELALLXG34MLZL\nCLIENT_SECRET:KP4311DRJ350XDHABGWNO1PQMCI1JQXV1HYVBV3BJ2FYY1YA\n"
                }
            ],
            "source": "CLIENT_ID = 'G3DDAPR0UTRHTRNCHGGIJSBHLA0FRGQ1UCPELALLXG34MLZL' # your Foursquare ID\nCLIENT_SECRET = 'KP4311DRJ350XDHABGWNO1PQMCI1JQXV1HYVBV3BJ2FYY1YA' # your Foursquare Secret\nVERSION = '20180604'\nLIMIT = 30\nprint('Your credentails:')\nprint('CLIENT_ID: ' + CLIENT_ID)\nprint('CLIENT_SECRET:' + CLIENT_SECRET)"
        },
        {
            "cell_type": "markdown",
            "metadata": {},
            "source": "<h4 style=\"color: red;\">Pick a random Toronto hood</h4>"
        },
        {
            "cell_type": "code",
            "execution_count": 340,
            "metadata": {},
            "outputs": [],
            "source": "latitude = 43.806686\nlongitude = -79.194353\nradius = 1000"
        },
        {
            "cell_type": "markdown",
            "metadata": {},
            "source": "<h4 style=\"color: red;\">A map of the hood. Will come in handy if we ever have to call in an airstrike on Canada</h4>"
        },
        {
            "cell_type": "code",
            "execution_count": 339,
            "metadata": {},
            "outputs": [
                {
                    "data": {
                        "text/html": "<div style=\"width:100%;\"><div style=\"position:relative;width:100%;height:0;padding-bottom:60%;\"><iframe src=\"data:text/html;charset=utf-8;base64,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\" style=\"position:absolute;width:100%;height:100%;left:0;top:0;border:none !important;\" allowfullscreen webkitallowfullscreen mozallowfullscreen></iframe></div></div>",
                        "text/plain": "<folium.folium.Map at 0x7fa6e8f8c860>"
                    },
                    "execution_count": 339,
                    "metadata": {},
                    "output_type": "execute_result"
                }
            ],
            "source": "venues_map = folium.Map(location=[latitude, longitude], zoom_start=13) # generate map centred around the Conrad Hotel\n\n# add a red circle marker to represent the Drop Zone\nfolium.features.CircleMarker(\n    [latitude, longitude],\n    radius=10,\n    color='red',\n    popup='Drop Zone',\n    fill = True,\n    fill_color = 'red',\n    fill_opacity = 0.6\n).add_to(venues_map)\n\n# display map\nvenues_map"
        },
        {
            "cell_type": "markdown",
            "metadata": {},
            "source": "<h4 style=\"color: red;\">Just look around. No agenda.</h4>"
        },
        {
            "cell_type": "code",
            "execution_count": 347,
            "metadata": {},
            "outputs": [],
            "source": "url = 'https://api.foursquare.com/v2/venues/explore?client_id={}&client_secret={}&ll={},{}&v={}&radius={}&limit={}'.format(CLIENT_ID, CLIENT_SECRET, latitude, longitude, VERSION, radius, LIMIT)\nurl\nresults = requests.get(url).json()"
        },
        {
            "cell_type": "code",
            "execution_count": null,
            "metadata": {},
            "outputs": [],
            "source": ""
        }
    ],
    "metadata": {
        "kernelspec": {
            "display_name": "Python 3.6",
            "language": "python",
            "name": "python3"
        },
        "language_info": {
            "codemirror_mode": {
                "name": "ipython",
                "version": 3
            },
            "file_extension": ".py",
            "mimetype": "text/x-python",
            "name": "python",
            "nbconvert_exporter": "python",
            "pygments_lexer": "ipython3",
            "version": "3.6.9"
        }
    },
    "nbformat": 4,
    "nbformat_minor": 1
}