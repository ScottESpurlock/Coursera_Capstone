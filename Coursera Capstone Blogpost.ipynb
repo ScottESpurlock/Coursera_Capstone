{
    "cells": [
        {
            "cell_type": "markdown",
            "metadata": {
                "collapsed": true
            },
            "source": "<h2>An Unexpected Journey</h2>\n\nI have never before written a blogpost and the instructions for its content are nonexistent. So I decided to take the easy road and write about my experience through the nine courses of the program from a purely academic point of view \u2013 those specific rigorous things I learned in each course. However, the longer I thought about it and the more I tried to organize my thoughts, the more I realized that I learned some much bigger, much more important things than those contained in the exercises that taught individual competencies. \n\nI stumbled upon Data Science as a seemingly fascinating way to put my 30+ years as a software engineer to work because the direction applications software development has been moving over the past several years has made me increasingly uneasy. With that unease - the faddish methodologies, and the languages that enable them have combined to drive from my chosen life\u2019s work, the love, the creativity, the pride of quality and individual product ownership that used to drive me forward with such enthusiasm. I seriously considered retirement. But retire to what? Software development is the only thing I have ever loved doing or imagined loving (as a career).\n\nFinally, and unbeknownst to me at the time, a perfect set of circumstances came to pass: Massive amounts of data AND tools with enough power to sift through them, apply mathematics to them, draw conclusions from them, represent them visually and make smarter, faster decisions from them.\n\nI thought I had found a new career, but I needed to be sure. I enrolled in Coursera\u2019s IBM Data Science Professional Certificate program. It has been a roller coaster ride \u2013 running me emotionally from elation at a skill mastered to despair and the return of college cold sweat nightmares that I would never understand and never measure up. Quitting was a temptation that visited more than once. On several occasions, I had to set it all down and not pick it up until several weeks passed.\n\nEventually, though, I survived. I found comfort in the kind words of fellow students as we peer-reviewed each other\u2019s final projects.\n\nI survived. And then I took a breath. Astounded. I was astounded at what, starting essentially from zero despite decades of programming experience (which includes both Python and SQL), I had learned.  I learned the \u201czen\u2019 of the dark art of Data Analytics. I learned the vocabulary and what much of it meant. I learned what some of the tools were and I began to learn to use a few of them. \n\nI was more astounded at what I didn\u2019t know. To say it has been a humbling experience would be the grossest of understatements. I \u201cthought\u201d I knew Python. But without Pandas, Numpy, Matplotlib and Seaborn, Python is a comparative empty, useless shell. And each of those libraries come replete with their own syntax and idiosycracies.\n\nI was given ample opportunities to prove what I had learned, and even more opportunities to be humbled at how much I had left to learn.\n\nIt HAS been a wild ride.\n\nBut the sum total of it all is this: I am hooked. Hopelessly, helplessly addicted. So addicted in fact, that I have gathered around me the resources to relearn calculus, statistics and linear algebra.  I have gathered the resources to learn MATLAB and R. I have enrolled in an edX course in Python taught by a Georgia Tech professor, despite my belief that I already know Python.\n\nThe point of all this? Because of my experience in the Coursera IBM Data Science Professional Certificate program, I am headed back to Georgia Tech to earn my Master of Science degree in Analytics.\n\nI take with me the most valuable thing I gained from this program: the confidence that I will succeed.\n"
        },
        {
            "cell_type": "code",
            "execution_count": null,
            "metadata": {},
            "outputs": [],
            "source": ""
        }
    ],
    "metadata": {
        "kernelspec": {
            "display_name": "Python 3.6",
            "language": "python",
            "name": "python3"
        },
        "language_info": {
            "codemirror_mode": {
                "name": "ipython",
                "version": 3
            },
            "file_extension": ".py",
            "mimetype": "text/x-python",
            "name": "python",
            "nbconvert_exporter": "python",
            "pygments_lexer": "ipython3",
            "version": "3.6.9"
        }
    },
    "nbformat": 4,
    "nbformat_minor": 1
}